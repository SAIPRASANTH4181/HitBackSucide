{
 "cells": [
  {
   "cell_type": "code",
   "execution_count": 1,
   "id": "e8675213",
   "metadata": {},
   "outputs": [
    {
     "name": "stdout",
     "output_type": "stream",
     "text": [
      "Collecting sentic\n",
      "  Using cached sentic-0.0.8.tar.gz (50.5 MB)\n",
      "Building wheels for collected packages: sentic\n",
      "  Building wheel for sentic (setup.py): started\n",
      "  Building wheel for sentic (setup.py): finished with status 'done'\n",
      "  Created wheel for sentic: filename=sentic-0.0.8-py3-none-any.whl size=52041408 sha256=739300fa7941a84b5160400b53c5ef59dace59e2d357b98b63812cb94f83c326\n",
      "  Stored in directory: c:\\users\\bnith\\appdata\\local\\pip\\cache\\wheels\\6a\\31\\be\\b16fd01d315bb124036ef7e28d0a3876090cedcfd661926d40\n",
      "Successfully built sentic\n",
      "Installing collected packages: sentic\n",
      "Successfully installed sentic-0.0.8\n",
      "Note: you may need to restart the kernel to use updated packages.\n"
     ]
    }
   ],
   "source": [
    "pip install sentic"
   ]
  }
 ],
 "metadata": {
  "kernelspec": {
   "display_name": "Python 3 (ipykernel)",
   "language": "python",
   "name": "python3"
  },
  "language_info": {
   "codemirror_mode": {
    "name": "ipython",
    "version": 3
   },
   "file_extension": ".py",
   "mimetype": "text/x-python",
   "name": "python",
   "nbconvert_exporter": "python",
   "pygments_lexer": "ipython3",
   "version": "3.9.12"
  }
 },
 "nbformat": 4,
 "nbformat_minor": 5
}
