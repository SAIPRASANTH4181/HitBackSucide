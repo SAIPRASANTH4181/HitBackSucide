{
 "cells": [
  {
   "cell_type": "code",
   "execution_count": 1,
   "metadata": {
    "colab": {
     "base_uri": "https://localhost:8080/"
    },
    "executionInfo": {
     "elapsed": 7461,
     "status": "ok",
     "timestamp": 1665609814111,
     "user": {
      "displayName": "RAMU AKHILANDESHWARI",
      "userId": "16057082212926801688"
     },
     "user_tz": 300
    },
    "id": "a76jI53XE6G3",
    "outputId": "e1093b38-efb4-4384-9b0c-420306d33140"
   },
   "outputs": [
    {
     "name": "stdout",
     "output_type": "stream",
     "text": [
      "Looking in indexes: https://pypi.org/simple, https://us-python.pkg.dev/colab-wheels/public/simple/\n",
      "Collecting snscrape\n",
      "  Downloading snscrape-0.3.4-py3-none-any.whl (35 kB)\n",
      "Requirement already satisfied: requests[socks] in /usr/local/lib/python3.7/dist-packages (from snscrape) (2.23.0)\n",
      "Requirement already satisfied: beautifulsoup4 in /usr/local/lib/python3.7/dist-packages (from snscrape) (4.6.3)\n",
      "Requirement already satisfied: lxml in /usr/local/lib/python3.7/dist-packages (from snscrape) (4.9.1)\n",
      "Requirement already satisfied: urllib3!=1.25.0,!=1.25.1,<1.26,>=1.21.1 in /usr/local/lib/python3.7/dist-packages (from requests[socks]->snscrape) (1.24.3)\n",
      "Requirement already satisfied: certifi>=2017.4.17 in /usr/local/lib/python3.7/dist-packages (from requests[socks]->snscrape) (2022.9.24)\n",
      "Requirement already satisfied: chardet<4,>=3.0.2 in /usr/local/lib/python3.7/dist-packages (from requests[socks]->snscrape) (3.0.4)\n",
      "Requirement already satisfied: idna<3,>=2.5 in /usr/local/lib/python3.7/dist-packages (from requests[socks]->snscrape) (2.10)\n",
      "Requirement already satisfied: PySocks!=1.5.7,>=1.5.6 in /usr/local/lib/python3.7/dist-packages (from requests[socks]->snscrape) (1.7.1)\n",
      "Installing collected packages: snscrape\n",
      "Successfully installed snscrape-0.3.4\n"
     ]
    }
   ],
   "source": [
    "pip install snscrape"
   ]
  },
  {
   "cell_type": "code",
   "execution_count": 2,
   "metadata": {
    "executionInfo": {
     "elapsed": 513,
     "status": "ok",
     "timestamp": 1665609832988,
     "user": {
      "displayName": "RAMU AKHILANDESHWARI",
      "userId": "16057082212926801688"
     },
     "user_tz": 300
    },
    "id": "-GNq-K0iFJIS"
   },
   "outputs": [],
   "source": [
    "import snscrape.base\n",
    "import snscrape.modules.twitter as sntwitter\n",
    "import pandas as pd\n",
    "import itertools"
   ]
  },
  {
   "cell_type": "code",
   "execution_count": 7,
   "metadata": {
    "executionInfo": {
     "elapsed": 181880,
     "status": "ok",
     "timestamp": 1665610980652,
     "user": {
      "displayName": "RAMU AKHILANDESHWARI",
      "userId": "16057082212926801688"
     },
     "user_tz": 300
    },
    "id": "84Ape8vNFRYN"
   },
   "outputs": [],
   "source": [
    "# our search term, using syntax for Twitter's Advanced Search\n",
    "search = '#suicide since:2022-09-01 until:2022-10-01 lang:en' # -filter:nativeretweets'\n",
    "\n",
    "# the scraped tweets, this is a generator\n",
    "scraped_tweets = sntwitter.TwitterSearchScraper(search).get_items()\n",
    "\n",
    "# slicing the generator to keep only the first 10000 tweets\n",
    "sliced_scraped_tweets = itertools.islice(scraped_tweets, 10000)\n",
    "\n",
    "# convert to a DataFrame and keep only relevant columns\n",
    "df = pd.DataFrame(sliced_scraped_tweets)[['date','content']]"
   ]
  },
  {
   "cell_type": "code",
   "execution_count": 10,
   "metadata": {
    "colab": {
     "base_uri": "https://localhost:8080/"
    },
    "executionInfo": {
     "elapsed": 2,
     "status": "ok",
     "timestamp": 1665611399021,
     "user": {
      "displayName": "RAMU AKHILANDESHWARI",
      "userId": "16057082212926801688"
     },
     "user_tz": 300
    },
    "id": "XO6grjlILOLG",
    "outputId": "23488bf6-da6a-4055-a133-2a60fb0d6bab"
   },
   "outputs": [
    {
     "data": {
      "text/plain": [
       "(5837, 2)"
      ]
     },
     "execution_count": 10,
     "metadata": {},
     "output_type": "execute_result"
    }
   ],
   "source": [
    "df.shape"
   ]
  },
  {
   "cell_type": "code",
   "execution_count": 8,
   "metadata": {
    "colab": {
     "base_uri": "https://localhost:8080/",
     "height": 206
    },
    "executionInfo": {
     "elapsed": 6,
     "status": "ok",
     "timestamp": 1665611386680,
     "user": {
      "displayName": "RAMU AKHILANDESHWARI",
      "userId": "16057082212926801688"
     },
     "user_tz": 300
    },
    "id": "7kTGKIMSI9SU",
    "outputId": "6840d5cf-5cbd-4507-e249-f1979bd2c545"
   },
   "outputs": [
    {
     "data": {
      "text/html": [
       "\n",
       "  <div id=\"df-d719692e-4d36-4b67-ad0b-edd60e7234e7\">\n",
       "    <div class=\"colab-df-container\">\n",
       "      <div>\n",
       "<style scoped>\n",
       "    .dataframe tbody tr th:only-of-type {\n",
       "        vertical-align: middle;\n",
       "    }\n",
       "\n",
       "    .dataframe tbody tr th {\n",
       "        vertical-align: top;\n",
       "    }\n",
       "\n",
       "    .dataframe thead th {\n",
       "        text-align: right;\n",
       "    }\n",
       "</style>\n",
       "<table border=\"1\" class=\"dataframe\">\n",
       "  <thead>\n",
       "    <tr style=\"text-align: right;\">\n",
       "      <th></th>\n",
       "      <th>date</th>\n",
       "      <th>content</th>\n",
       "    </tr>\n",
       "  </thead>\n",
       "  <tbody>\n",
       "    <tr>\n",
       "      <th>0</th>\n",
       "      <td>2022-09-30 23:55:55+00:00</td>\n",
       "      <td>WE ALL HAVE PAINFUL  EXPERIENCES Suicidal Call...</td>\n",
       "    </tr>\n",
       "    <tr>\n",
       "      <th>1</th>\n",
       "      <td>2022-09-30 23:41:34+00:00</td>\n",
       "      <td>British girl suicide 5 years ago 'Internet inf...</td>\n",
       "    </tr>\n",
       "    <tr>\n",
       "      <th>2</th>\n",
       "      <td>2022-09-30 23:22:12+00:00</td>\n",
       "      <td>To wrap up National Suicide Prevention Month, ...</td>\n",
       "    </tr>\n",
       "    <tr>\n",
       "      <th>3</th>\n",
       "      <td>2022-09-30 23:19:38+00:00</td>\n",
       "      <td>September is #Suicide #awareness month. Lets n...</td>\n",
       "    </tr>\n",
       "    <tr>\n",
       "      <th>4</th>\n",
       "      <td>2022-09-30 23:00:41+00:00</td>\n",
       "      <td>Most people often do not die by suicide becaus...</td>\n",
       "    </tr>\n",
       "  </tbody>\n",
       "</table>\n",
       "</div>\n",
       "      <button class=\"colab-df-convert\" onclick=\"convertToInteractive('df-d719692e-4d36-4b67-ad0b-edd60e7234e7')\"\n",
       "              title=\"Convert this dataframe to an interactive table.\"\n",
       "              style=\"display:none;\">\n",
       "        \n",
       "  <svg xmlns=\"http://www.w3.org/2000/svg\" height=\"24px\"viewBox=\"0 0 24 24\"\n",
       "       width=\"24px\">\n",
       "    <path d=\"M0 0h24v24H0V0z\" fill=\"none\"/>\n",
       "    <path d=\"M18.56 5.44l.94 2.06.94-2.06 2.06-.94-2.06-.94-.94-2.06-.94 2.06-2.06.94zm-11 1L8.5 8.5l.94-2.06 2.06-.94-2.06-.94L8.5 2.5l-.94 2.06-2.06.94zm10 10l.94 2.06.94-2.06 2.06-.94-2.06-.94-.94-2.06-.94 2.06-2.06.94z\"/><path d=\"M17.41 7.96l-1.37-1.37c-.4-.4-.92-.59-1.43-.59-.52 0-1.04.2-1.43.59L10.3 9.45l-7.72 7.72c-.78.78-.78 2.05 0 2.83L4 21.41c.39.39.9.59 1.41.59.51 0 1.02-.2 1.41-.59l7.78-7.78 2.81-2.81c.8-.78.8-2.07 0-2.86zM5.41 20L4 18.59l7.72-7.72 1.47 1.35L5.41 20z\"/>\n",
       "  </svg>\n",
       "      </button>\n",
       "      \n",
       "  <style>\n",
       "    .colab-df-container {\n",
       "      display:flex;\n",
       "      flex-wrap:wrap;\n",
       "      gap: 12px;\n",
       "    }\n",
       "\n",
       "    .colab-df-convert {\n",
       "      background-color: #E8F0FE;\n",
       "      border: none;\n",
       "      border-radius: 50%;\n",
       "      cursor: pointer;\n",
       "      display: none;\n",
       "      fill: #1967D2;\n",
       "      height: 32px;\n",
       "      padding: 0 0 0 0;\n",
       "      width: 32px;\n",
       "    }\n",
       "\n",
       "    .colab-df-convert:hover {\n",
       "      background-color: #E2EBFA;\n",
       "      box-shadow: 0px 1px 2px rgba(60, 64, 67, 0.3), 0px 1px 3px 1px rgba(60, 64, 67, 0.15);\n",
       "      fill: #174EA6;\n",
       "    }\n",
       "\n",
       "    [theme=dark] .colab-df-convert {\n",
       "      background-color: #3B4455;\n",
       "      fill: #D2E3FC;\n",
       "    }\n",
       "\n",
       "    [theme=dark] .colab-df-convert:hover {\n",
       "      background-color: #434B5C;\n",
       "      box-shadow: 0px 1px 3px 1px rgba(0, 0, 0, 0.15);\n",
       "      filter: drop-shadow(0px 1px 2px rgba(0, 0, 0, 0.3));\n",
       "      fill: #FFFFFF;\n",
       "    }\n",
       "  </style>\n",
       "\n",
       "      <script>\n",
       "        const buttonEl =\n",
       "          document.querySelector('#df-d719692e-4d36-4b67-ad0b-edd60e7234e7 button.colab-df-convert');\n",
       "        buttonEl.style.display =\n",
       "          google.colab.kernel.accessAllowed ? 'block' : 'none';\n",
       "\n",
       "        async function convertToInteractive(key) {\n",
       "          const element = document.querySelector('#df-d719692e-4d36-4b67-ad0b-edd60e7234e7');\n",
       "          const dataTable =\n",
       "            await google.colab.kernel.invokeFunction('convertToInteractive',\n",
       "                                                     [key], {});\n",
       "          if (!dataTable) return;\n",
       "\n",
       "          const docLinkHtml = 'Like what you see? Visit the ' +\n",
       "            '<a target=\"_blank\" href=https://colab.research.google.com/notebooks/data_table.ipynb>data table notebook</a>'\n",
       "            + ' to learn more about interactive tables.';\n",
       "          element.innerHTML = '';\n",
       "          dataTable['output_type'] = 'display_data';\n",
       "          await google.colab.output.renderOutput(dataTable, element);\n",
       "          const docLink = document.createElement('div');\n",
       "          docLink.innerHTML = docLinkHtml;\n",
       "          element.appendChild(docLink);\n",
       "        }\n",
       "      </script>\n",
       "    </div>\n",
       "  </div>\n",
       "  "
      ],
      "text/plain": [
       "                       date                                            content\n",
       "0 2022-09-30 23:55:55+00:00  WE ALL HAVE PAINFUL  EXPERIENCES Suicidal Call...\n",
       "1 2022-09-30 23:41:34+00:00  British girl suicide 5 years ago 'Internet inf...\n",
       "2 2022-09-30 23:22:12+00:00  To wrap up National Suicide Prevention Month, ...\n",
       "3 2022-09-30 23:19:38+00:00  September is #Suicide #awareness month. Lets n...\n",
       "4 2022-09-30 23:00:41+00:00  Most people often do not die by suicide becaus..."
      ]
     },
     "execution_count": 8,
     "metadata": {},
     "output_type": "execute_result"
    }
   ],
   "source": [
    "df.head()"
   ]
  },
  {
   "cell_type": "code",
   "execution_count": 9,
   "metadata": {
    "colab": {
     "base_uri": "https://localhost:8080/"
    },
    "executionInfo": {
     "elapsed": 289,
     "status": "ok",
     "timestamp": 1665611392578,
     "user": {
      "displayName": "RAMU AKHILANDESHWARI",
      "userId": "16057082212926801688"
     },
     "user_tz": 300
    },
    "id": "9Oh5BZmzLMvd",
    "outputId": "b599b024-5597-4a78-a901-e0125a5c3431"
   },
   "outputs": [
    {
     "data": {
      "text/plain": [
       "Index(['date', 'content'], dtype='object')"
      ]
     },
     "execution_count": 9,
     "metadata": {},
     "output_type": "execute_result"
    }
   ],
   "source": [
    "df.columns"
   ]
  },
  {
   "cell_type": "code",
   "execution_count": null,
   "metadata": {
    "id": "B8Fs4S2zLPxA"
   },
   "outputs": [],
   "source": []
  },
  {
   "cell_type": "code",
   "execution_count": null,
   "metadata": {
    "id": "2tGIwh6gLU1t"
   },
   "outputs": [],
   "source": []
  },
  {
   "cell_type": "code",
   "execution_count": null,
   "metadata": {
    "id": "6orkCP1vLVPz"
   },
   "outputs": [],
   "source": []
  },
  {
   "cell_type": "markdown",
   "metadata": {
    "id": "Mw9r6JMpFnsA"
   },
   "source": [
    "## Text Processing"
   ]
  },
  {
   "cell_type": "code",
   "execution_count": null,
   "metadata": {
    "id": "gG6GkCuNFpaa"
   },
   "outputs": [],
   "source": [
    "from textblob import TextBlob\n",
    "import re\n",
    "from nltk.corpus import stopwords\n",
    "from nltk.stem.wordnet import WordNetLemmatizer\n",
    "\n",
    "import nltk\n",
    "nltk.download('all')"
   ]
  },
  {
   "cell_type": "code",
   "execution_count": 12,
   "metadata": {
    "colab": {
     "base_uri": "https://localhost:8080/",
     "height": 206
    },
    "executionInfo": {
     "elapsed": 7,
     "status": "ok",
     "timestamp": 1665611591968,
     "user": {
      "displayName": "RAMU AKHILANDESHWARI",
      "userId": "16057082212926801688"
     },
     "user_tz": 300
    },
    "id": "6vJM9p8uFg1R",
    "outputId": "0438e8b3-9e94-4313-8d9e-1bd73fef517f"
   },
   "outputs": [
    {
     "data": {
      "text/html": [
       "\n",
       "  <div id=\"df-8a21611b-688f-4ddb-b7e6-fddcc6e52c3d\">\n",
       "    <div class=\"colab-df-container\">\n",
       "      <div>\n",
       "<style scoped>\n",
       "    .dataframe tbody tr th:only-of-type {\n",
       "        vertical-align: middle;\n",
       "    }\n",
       "\n",
       "    .dataframe tbody tr th {\n",
       "        vertical-align: top;\n",
       "    }\n",
       "\n",
       "    .dataframe thead th {\n",
       "        text-align: right;\n",
       "    }\n",
       "</style>\n",
       "<table border=\"1\" class=\"dataframe\">\n",
       "  <thead>\n",
       "    <tr style=\"text-align: right;\">\n",
       "      <th></th>\n",
       "      <th>date</th>\n",
       "      <th>content</th>\n",
       "    </tr>\n",
       "  </thead>\n",
       "  <tbody>\n",
       "    <tr>\n",
       "      <th>0</th>\n",
       "      <td>2022-09-30 23:55:55+00:00</td>\n",
       "      <td>WE ALL HAVE PAINFUL  EXPERIENCES Suicidal Call...</td>\n",
       "    </tr>\n",
       "    <tr>\n",
       "      <th>1</th>\n",
       "      <td>2022-09-30 23:41:34+00:00</td>\n",
       "      <td>British girl suicide 5 years ago 'Internet inf...</td>\n",
       "    </tr>\n",
       "    <tr>\n",
       "      <th>2</th>\n",
       "      <td>2022-09-30 23:22:12+00:00</td>\n",
       "      <td>To wrap up National Suicide Prevention Month, ...</td>\n",
       "    </tr>\n",
       "    <tr>\n",
       "      <th>3</th>\n",
       "      <td>2022-09-30 23:19:38+00:00</td>\n",
       "      <td>September is #Suicide #awareness month. Lets n...</td>\n",
       "    </tr>\n",
       "    <tr>\n",
       "      <th>4</th>\n",
       "      <td>2022-09-30 23:00:41+00:00</td>\n",
       "      <td>Most people often do not die by suicide becaus...</td>\n",
       "    </tr>\n",
       "  </tbody>\n",
       "</table>\n",
       "</div>\n",
       "      <button class=\"colab-df-convert\" onclick=\"convertToInteractive('df-8a21611b-688f-4ddb-b7e6-fddcc6e52c3d')\"\n",
       "              title=\"Convert this dataframe to an interactive table.\"\n",
       "              style=\"display:none;\">\n",
       "        \n",
       "  <svg xmlns=\"http://www.w3.org/2000/svg\" height=\"24px\"viewBox=\"0 0 24 24\"\n",
       "       width=\"24px\">\n",
       "    <path d=\"M0 0h24v24H0V0z\" fill=\"none\"/>\n",
       "    <path d=\"M18.56 5.44l.94 2.06.94-2.06 2.06-.94-2.06-.94-.94-2.06-.94 2.06-2.06.94zm-11 1L8.5 8.5l.94-2.06 2.06-.94-2.06-.94L8.5 2.5l-.94 2.06-2.06.94zm10 10l.94 2.06.94-2.06 2.06-.94-2.06-.94-.94-2.06-.94 2.06-2.06.94z\"/><path d=\"M17.41 7.96l-1.37-1.37c-.4-.4-.92-.59-1.43-.59-.52 0-1.04.2-1.43.59L10.3 9.45l-7.72 7.72c-.78.78-.78 2.05 0 2.83L4 21.41c.39.39.9.59 1.41.59.51 0 1.02-.2 1.41-.59l7.78-7.78 2.81-2.81c.8-.78.8-2.07 0-2.86zM5.41 20L4 18.59l7.72-7.72 1.47 1.35L5.41 20z\"/>\n",
       "  </svg>\n",
       "      </button>\n",
       "      \n",
       "  <style>\n",
       "    .colab-df-container {\n",
       "      display:flex;\n",
       "      flex-wrap:wrap;\n",
       "      gap: 12px;\n",
       "    }\n",
       "\n",
       "    .colab-df-convert {\n",
       "      background-color: #E8F0FE;\n",
       "      border: none;\n",
       "      border-radius: 50%;\n",
       "      cursor: pointer;\n",
       "      display: none;\n",
       "      fill: #1967D2;\n",
       "      height: 32px;\n",
       "      padding: 0 0 0 0;\n",
       "      width: 32px;\n",
       "    }\n",
       "\n",
       "    .colab-df-convert:hover {\n",
       "      background-color: #E2EBFA;\n",
       "      box-shadow: 0px 1px 2px rgba(60, 64, 67, 0.3), 0px 1px 3px 1px rgba(60, 64, 67, 0.15);\n",
       "      fill: #174EA6;\n",
       "    }\n",
       "\n",
       "    [theme=dark] .colab-df-convert {\n",
       "      background-color: #3B4455;\n",
       "      fill: #D2E3FC;\n",
       "    }\n",
       "\n",
       "    [theme=dark] .colab-df-convert:hover {\n",
       "      background-color: #434B5C;\n",
       "      box-shadow: 0px 1px 3px 1px rgba(0, 0, 0, 0.15);\n",
       "      filter: drop-shadow(0px 1px 2px rgba(0, 0, 0, 0.3));\n",
       "      fill: #FFFFFF;\n",
       "    }\n",
       "  </style>\n",
       "\n",
       "      <script>\n",
       "        const buttonEl =\n",
       "          document.querySelector('#df-8a21611b-688f-4ddb-b7e6-fddcc6e52c3d button.colab-df-convert');\n",
       "        buttonEl.style.display =\n",
       "          google.colab.kernel.accessAllowed ? 'block' : 'none';\n",
       "\n",
       "        async function convertToInteractive(key) {\n",
       "          const element = document.querySelector('#df-8a21611b-688f-4ddb-b7e6-fddcc6e52c3d');\n",
       "          const dataTable =\n",
       "            await google.colab.kernel.invokeFunction('convertToInteractive',\n",
       "                                                     [key], {});\n",
       "          if (!dataTable) return;\n",
       "\n",
       "          const docLinkHtml = 'Like what you see? Visit the ' +\n",
       "            '<a target=\"_blank\" href=https://colab.research.google.com/notebooks/data_table.ipynb>data table notebook</a>'\n",
       "            + ' to learn more about interactive tables.';\n",
       "          element.innerHTML = '';\n",
       "          dataTable['output_type'] = 'display_data';\n",
       "          await google.colab.output.renderOutput(dataTable, element);\n",
       "          const docLink = document.createElement('div');\n",
       "          docLink.innerHTML = docLinkHtml;\n",
       "          element.appendChild(docLink);\n",
       "        }\n",
       "      </script>\n",
       "    </div>\n",
       "  </div>\n",
       "  "
      ],
      "text/plain": [
       "                       date                                            content\n",
       "0 2022-09-30 23:55:55+00:00  WE ALL HAVE PAINFUL  EXPERIENCES Suicidal Call...\n",
       "1 2022-09-30 23:41:34+00:00  British girl suicide 5 years ago 'Internet inf...\n",
       "2 2022-09-30 23:22:12+00:00  To wrap up National Suicide Prevention Month, ...\n",
       "3 2022-09-30 23:19:38+00:00  September is #Suicide #awareness month. Lets n...\n",
       "4 2022-09-30 23:00:41+00:00  Most people often do not die by suicide becaus..."
      ]
     },
     "execution_count": 12,
     "metadata": {},
     "output_type": "execute_result"
    }
   ],
   "source": [
    "train_tweets = df.copy()\n",
    "train_tweets.head()"
   ]
  },
  {
   "cell_type": "code",
   "execution_count": 13,
   "metadata": {
    "executionInfo": {
     "elapsed": 2,
     "status": "ok",
     "timestamp": 1665611597525,
     "user": {
      "displayName": "RAMU AKHILANDESHWARI",
      "userId": "16057082212926801688"
     },
     "user_tz": 300
    },
    "id": "nn7wPNgEGuvb"
   },
   "outputs": [],
   "source": [
    "# Removing URLs\n",
    "def remove_URL(headline_text):\n",
    "    url = re.compile(r'https?://\\S+|www\\.\\S+')\n",
    "    return url.sub(r'', headline_text)"
   ]
  },
  {
   "cell_type": "code",
   "execution_count": 14,
   "metadata": {
    "executionInfo": {
     "elapsed": 263,
     "status": "ok",
     "timestamp": 1665611613896,
     "user": {
      "displayName": "RAMU AKHILANDESHWARI",
      "userId": "16057082212926801688"
     },
     "user_tz": 300
    },
    "id": "Xn5tqKslGvDN"
   },
   "outputs": [],
   "source": [
    "df1=train_tweets.copy()\n",
    "df1['content']=df1['content'].apply(remove_URL)"
   ]
  },
  {
   "cell_type": "code",
   "execution_count": 15,
   "metadata": {
    "executionInfo": {
     "elapsed": 263,
     "status": "ok",
     "timestamp": 1665611619527,
     "user": {
      "displayName": "RAMU AKHILANDESHWARI",
      "userId": "16057082212926801688"
     },
     "user_tz": 300
    },
    "id": "OULErhs7GvSZ"
   },
   "outputs": [],
   "source": [
    "# Removing the html tags\n",
    "def remove_html(headline_text):\n",
    "    html=re.compile(r'<.*?>')\n",
    "    return html.sub(r'',headline_text)"
   ]
  },
  {
   "cell_type": "code",
   "execution_count": 16,
   "metadata": {
    "colab": {
     "base_uri": "https://localhost:8080/"
    },
    "executionInfo": {
     "elapsed": 268,
     "status": "ok",
     "timestamp": 1665611632780,
     "user": {
      "displayName": "RAMU AKHILANDESHWARI",
      "userId": "16057082212926801688"
     },
     "user_tz": 300
    },
    "id": "pZA9eccnGve9",
    "outputId": "82e85964-1631-468f-a84e-7143e87216d8"
   },
   "outputs": [
    {
     "data": {
      "text/plain": [
       "array(['WE ALL HAVE PAINFUL\\xa0 EXPERIENCES Suicidal Call or Text 988 #Helpline\\xa0#warriors #courage #fight\\xa0#chooselife #trending #socialmedia #trend #nmrk #mission #vets #reachout #yourlifematters #recovery #suicideprevention #suicide #sufferings VIDEO LINK\\n ',\n",
       "       \"British girl suicide 5 years ago 'Internet information has an adverse effect' also affects legal and regulatory debate - #information #internet #suicide #debate #legal #girl \",\n",
       "       'To wrap up National Suicide Prevention Month, a piece I did on 14 Bay Area and LA tattoo artists, many impacted by suicide loss themselves, uniting behind the cause. #NationalSuicidePreventionMonth #tattooartist #tattoo #suicide #SuicideAwareness ',\n",
       "       ...,\n",
       "       'Thrilled to pass on the news that Canada will have a #mentalhealth #suicide hotline by end of 2023. ',\n",
       "       '#JOURNALISTS: Write better stories on #suicide. Keep these guidelines in your back pocket:  @dartcenter',\n",
       "       '#tornbetweentwoworlds now available on @audible_com  \\n\\n#Selfhelp book for sufferers of \\n#TreatmentResistantDepression #DrugResistantDepression\\n#TreatmentResistant #Dissociativeidentitydisorder\\n#TreatmentResistantSchizophrenia \\n#depression #Suicide\\n\\n '],\n",
       "      dtype=object)"
      ]
     },
     "execution_count": 16,
     "metadata": {},
     "output_type": "execute_result"
    }
   ],
   "source": [
    "df1['content']=df1['content'].apply(remove_html)\n",
    "df1.content.values"
   ]
  },
  {
   "cell_type": "code",
   "execution_count": 17,
   "metadata": {
    "executionInfo": {
     "elapsed": 2,
     "status": "ok",
     "timestamp": 1665611635617,
     "user": {
      "displayName": "RAMU AKHILANDESHWARI",
      "userId": "16057082212926801688"
     },
     "user_tz": 300
    },
    "id": "RNdadzd6G4Bh"
   },
   "outputs": [],
   "source": [
    "# Removing Pictures/Tags/Symbols/Emojis\n",
    "def remove_emojis(data):\n",
    "    emoj = re.compile(\"[\"\n",
    "        u\"\\U0001F600-\\U0001F64F\"  # emoticons\n",
    "        u\"\\U0001F300-\\U0001F5FF\"  # symbols & pictographs\n",
    "        u\"\\U0001F680-\\U0001F6FF\"  # transport & map symbols\n",
    "        u\"\\U0001F1E0-\\U0001F1FF\"  # flags (iOS)\n",
    "        u\"\\U00002500-\\U00002BEF\"  # chinese char\n",
    "        u\"\\U00002702-\\U000027B0\"\n",
    "        u\"\\U00002702-\\U000027B0\"\n",
    "        u\"\\U000024C2-\\U0001F251\"\n",
    "        u\"\\U0001f926-\\U0001f937\"\n",
    "        u\"\\U00010000-\\U0010ffff\"\n",
    "        u\"\\u2640-\\u2642\" \n",
    "        u\"\\u2600-\\u2B55\"\n",
    "        u\"\\u200d\"\n",
    "        u\"\\u23cf\"\n",
    "        u\"\\u23e9\"\n",
    "        u\"\\u231a\"\n",
    "        u\"\\ufe0f\"  # dingbats\n",
    "        u\"\\u3030\"\n",
    "                      \"]+\", re.UNICODE)\n",
    "    return re.sub(emoj, '', data)"
   ]
  },
  {
   "cell_type": "code",
   "execution_count": 18,
   "metadata": {
    "colab": {
     "base_uri": "https://localhost:8080/"
    },
    "executionInfo": {
     "elapsed": 282,
     "status": "ok",
     "timestamp": 1665611640777,
     "user": {
      "displayName": "RAMU AKHILANDESHWARI",
      "userId": "16057082212926801688"
     },
     "user_tz": 300
    },
    "id": "9Fm6ei2mG4QM",
    "outputId": "56ee167a-1a14-4be8-c198-535ed720c233"
   },
   "outputs": [
    {
     "data": {
      "text/plain": [
       "array(['WE ALL HAVE PAINFUL\\xa0 EXPERIENCES Suicidal Call or Text 988 #Helpline\\xa0#warriors #courage #fight\\xa0#chooselife #trending #socialmedia #trend #nmrk #mission #vets #reachout #yourlifematters #recovery #suicideprevention #suicide #sufferings VIDEO LINK\\n ',\n",
       "       \"British girl suicide 5 years ago 'Internet information has an adverse effect' also affects legal and regulatory debate - #information #internet #suicide #debate #legal #girl \",\n",
       "       'To wrap up National Suicide Prevention Month, a piece I did on 14 Bay Area and LA tattoo artists, many impacted by suicide loss themselves, uniting behind the cause. #NationalSuicidePreventionMonth #tattooartist #tattoo #suicide #SuicideAwareness ',\n",
       "       ...,\n",
       "       'Thrilled to pass on the news that Canada will have a #mentalhealth #suicide hotline by end of 2023. ',\n",
       "       '#JOURNALISTS: Write better stories on #suicide. Keep these guidelines in your back pocket:  @dartcenter',\n",
       "       '#tornbetweentwoworlds now available on @audible_com  \\n\\n#Selfhelp book for sufferers of \\n#TreatmentResistantDepression #DrugResistantDepression\\n#TreatmentResistant #Dissociativeidentitydisorder\\n#TreatmentResistantSchizophrenia \\n#depression #Suicide\\n\\n '],\n",
       "      dtype=object)"
      ]
     },
     "execution_count": 18,
     "metadata": {},
     "output_type": "execute_result"
    }
   ],
   "source": [
    "df1['content']=df1['content'].apply(remove_emojis)\n",
    "df1.content.values"
   ]
  },
  {
   "cell_type": "code",
   "execution_count": 19,
   "metadata": {
    "executionInfo": {
     "elapsed": 262,
     "status": "ok",
     "timestamp": 1665611642884,
     "user": {
      "displayName": "RAMU AKHILANDESHWARI",
      "userId": "16057082212926801688"
     },
     "user_tz": 300
    },
    "id": "OGhJ91XOG4k-"
   },
   "outputs": [],
   "source": [
    "import string\n",
    "\n",
    "# Removing punctuations\n",
    "def remove_punct(headline_text):\n",
    "    table=str.maketrans('','',string.punctuation)\n",
    "    return headline_text.translate(table)"
   ]
  },
  {
   "cell_type": "code",
   "execution_count": 20,
   "metadata": {
    "colab": {
     "base_uri": "https://localhost:8080/"
    },
    "executionInfo": {
     "elapsed": 276,
     "status": "ok",
     "timestamp": 1665611646904,
     "user": {
      "displayName": "RAMU AKHILANDESHWARI",
      "userId": "16057082212926801688"
     },
     "user_tz": 300
    },
    "id": "4lqd9a4KG4-9",
    "outputId": "79a0a176-ae22-4953-c96e-e04df3cf46e7"
   },
   "outputs": [
    {
     "data": {
      "text/plain": [
       "array(['WE ALL HAVE PAINFUL\\xa0 EXPERIENCES Suicidal Call or Text 988 Helpline\\xa0warriors courage fight\\xa0chooselife trending socialmedia trend nmrk mission vets reachout yourlifematters recovery suicideprevention suicide sufferings VIDEO LINK\\n ',\n",
       "       'British girl suicide 5 years ago Internet information has an adverse effect also affects legal and regulatory debate  information internet suicide debate legal girl ',\n",
       "       'To wrap up National Suicide Prevention Month a piece I did on 14 Bay Area and LA tattoo artists many impacted by suicide loss themselves uniting behind the cause NationalSuicidePreventionMonth tattooartist tattoo suicide SuicideAwareness ',\n",
       "       ...,\n",
       "       'Thrilled to pass on the news that Canada will have a mentalhealth suicide hotline by end of 2023 ',\n",
       "       'JOURNALISTS Write better stories on suicide Keep these guidelines in your back pocket  dartcenter',\n",
       "       'tornbetweentwoworlds now available on audiblecom  \\n\\nSelfhelp book for sufferers of \\nTreatmentResistantDepression DrugResistantDepression\\nTreatmentResistant Dissociativeidentitydisorder\\nTreatmentResistantSchizophrenia \\ndepression Suicide\\n\\n '],\n",
       "      dtype=object)"
      ]
     },
     "execution_count": 20,
     "metadata": {},
     "output_type": "execute_result"
    }
   ],
   "source": [
    "df1['content']=df1['content'].apply(remove_punct)\n",
    "df1.content.values"
   ]
  },
  {
   "cell_type": "code",
   "execution_count": 21,
   "metadata": {
    "colab": {
     "base_uri": "https://localhost:8080/",
     "height": 206
    },
    "executionInfo": {
     "elapsed": 269,
     "status": "ok",
     "timestamp": 1665611649184,
     "user": {
      "displayName": "RAMU AKHILANDESHWARI",
      "userId": "16057082212926801688"
     },
     "user_tz": 300
    },
    "id": "sDJvqAIGHF3s",
    "outputId": "350919b1-ee9a-4d02-d119-c5ed4479aa7c"
   },
   "outputs": [
    {
     "data": {
      "text/html": [
       "\n",
       "  <div id=\"df-41ef3e74-65dd-4638-abab-dad5537fff8e\">\n",
       "    <div class=\"colab-df-container\">\n",
       "      <div>\n",
       "<style scoped>\n",
       "    .dataframe tbody tr th:only-of-type {\n",
       "        vertical-align: middle;\n",
       "    }\n",
       "\n",
       "    .dataframe tbody tr th {\n",
       "        vertical-align: top;\n",
       "    }\n",
       "\n",
       "    .dataframe thead th {\n",
       "        text-align: right;\n",
       "    }\n",
       "</style>\n",
       "<table border=\"1\" class=\"dataframe\">\n",
       "  <thead>\n",
       "    <tr style=\"text-align: right;\">\n",
       "      <th></th>\n",
       "      <th>content</th>\n",
       "    </tr>\n",
       "  </thead>\n",
       "  <tbody>\n",
       "    <tr>\n",
       "      <th>0</th>\n",
       "      <td>WE ALL HAVE PAINFUL  EXPERIENCES Suicidal Call...</td>\n",
       "    </tr>\n",
       "    <tr>\n",
       "      <th>1</th>\n",
       "      <td>British girl suicide 5 years ago Internet info...</td>\n",
       "    </tr>\n",
       "    <tr>\n",
       "      <th>2</th>\n",
       "      <td>To wrap up National Suicide Prevention Month a...</td>\n",
       "    </tr>\n",
       "    <tr>\n",
       "      <th>3</th>\n",
       "      <td>September is Suicide awareness month Lets not ...</td>\n",
       "    </tr>\n",
       "    <tr>\n",
       "      <th>4</th>\n",
       "      <td>Most people often do not die by suicide becaus...</td>\n",
       "    </tr>\n",
       "  </tbody>\n",
       "</table>\n",
       "</div>\n",
       "      <button class=\"colab-df-convert\" onclick=\"convertToInteractive('df-41ef3e74-65dd-4638-abab-dad5537fff8e')\"\n",
       "              title=\"Convert this dataframe to an interactive table.\"\n",
       "              style=\"display:none;\">\n",
       "        \n",
       "  <svg xmlns=\"http://www.w3.org/2000/svg\" height=\"24px\"viewBox=\"0 0 24 24\"\n",
       "       width=\"24px\">\n",
       "    <path d=\"M0 0h24v24H0V0z\" fill=\"none\"/>\n",
       "    <path d=\"M18.56 5.44l.94 2.06.94-2.06 2.06-.94-2.06-.94-.94-2.06-.94 2.06-2.06.94zm-11 1L8.5 8.5l.94-2.06 2.06-.94-2.06-.94L8.5 2.5l-.94 2.06-2.06.94zm10 10l.94 2.06.94-2.06 2.06-.94-2.06-.94-.94-2.06-.94 2.06-2.06.94z\"/><path d=\"M17.41 7.96l-1.37-1.37c-.4-.4-.92-.59-1.43-.59-.52 0-1.04.2-1.43.59L10.3 9.45l-7.72 7.72c-.78.78-.78 2.05 0 2.83L4 21.41c.39.39.9.59 1.41.59.51 0 1.02-.2 1.41-.59l7.78-7.78 2.81-2.81c.8-.78.8-2.07 0-2.86zM5.41 20L4 18.59l7.72-7.72 1.47 1.35L5.41 20z\"/>\n",
       "  </svg>\n",
       "      </button>\n",
       "      \n",
       "  <style>\n",
       "    .colab-df-container {\n",
       "      display:flex;\n",
       "      flex-wrap:wrap;\n",
       "      gap: 12px;\n",
       "    }\n",
       "\n",
       "    .colab-df-convert {\n",
       "      background-color: #E8F0FE;\n",
       "      border: none;\n",
       "      border-radius: 50%;\n",
       "      cursor: pointer;\n",
       "      display: none;\n",
       "      fill: #1967D2;\n",
       "      height: 32px;\n",
       "      padding: 0 0 0 0;\n",
       "      width: 32px;\n",
       "    }\n",
       "\n",
       "    .colab-df-convert:hover {\n",
       "      background-color: #E2EBFA;\n",
       "      box-shadow: 0px 1px 2px rgba(60, 64, 67, 0.3), 0px 1px 3px 1px rgba(60, 64, 67, 0.15);\n",
       "      fill: #174EA6;\n",
       "    }\n",
       "\n",
       "    [theme=dark] .colab-df-convert {\n",
       "      background-color: #3B4455;\n",
       "      fill: #D2E3FC;\n",
       "    }\n",
       "\n",
       "    [theme=dark] .colab-df-convert:hover {\n",
       "      background-color: #434B5C;\n",
       "      box-shadow: 0px 1px 3px 1px rgba(0, 0, 0, 0.15);\n",
       "      filter: drop-shadow(0px 1px 2px rgba(0, 0, 0, 0.3));\n",
       "      fill: #FFFFFF;\n",
       "    }\n",
       "  </style>\n",
       "\n",
       "      <script>\n",
       "        const buttonEl =\n",
       "          document.querySelector('#df-41ef3e74-65dd-4638-abab-dad5537fff8e button.colab-df-convert');\n",
       "        buttonEl.style.display =\n",
       "          google.colab.kernel.accessAllowed ? 'block' : 'none';\n",
       "\n",
       "        async function convertToInteractive(key) {\n",
       "          const element = document.querySelector('#df-41ef3e74-65dd-4638-abab-dad5537fff8e');\n",
       "          const dataTable =\n",
       "            await google.colab.kernel.invokeFunction('convertToInteractive',\n",
       "                                                     [key], {});\n",
       "          if (!dataTable) return;\n",
       "\n",
       "          const docLinkHtml = 'Like what you see? Visit the ' +\n",
       "            '<a target=\"_blank\" href=https://colab.research.google.com/notebooks/data_table.ipynb>data table notebook</a>'\n",
       "            + ' to learn more about interactive tables.';\n",
       "          element.innerHTML = '';\n",
       "          dataTable['output_type'] = 'display_data';\n",
       "          await google.colab.output.renderOutput(dataTable, element);\n",
       "          const docLink = document.createElement('div');\n",
       "          docLink.innerHTML = docLinkHtml;\n",
       "          element.appendChild(docLink);\n",
       "        }\n",
       "      </script>\n",
       "    </div>\n",
       "  </div>\n",
       "  "
      ],
      "text/plain": [
       "                                             content\n",
       "0  WE ALL HAVE PAINFUL  EXPERIENCES Suicidal Call...\n",
       "1  British girl suicide 5 years ago Internet info...\n",
       "2  To wrap up National Suicide Prevention Month a...\n",
       "3  September is Suicide awareness month Lets not ...\n",
       "4  Most people often do not die by suicide becaus..."
      ]
     },
     "execution_count": 21,
     "metadata": {},
     "output_type": "execute_result"
    }
   ],
   "source": [
    "df1.drop(columns=['date'],inplace=True)\n",
    "refined_data=df1.copy()\n",
    "refined_data.head()"
   ]
  },
  {
   "cell_type": "code",
   "execution_count": null,
   "metadata": {
    "id": "XivvmJ9kHGVs"
   },
   "outputs": [],
   "source": []
  },
  {
   "cell_type": "markdown",
   "metadata": {
    "id": "jmMU9sdtJNFA"
   },
   "source": [
    "## Aspect Based Sentiment Analysis"
   ]
  },
  {
   "cell_type": "code",
   "execution_count": 22,
   "metadata": {
    "executionInfo": {
     "elapsed": 10932,
     "status": "ok",
     "timestamp": 1665611668941,
     "user": {
      "displayName": "RAMU AKHILANDESHWARI",
      "userId": "16057082212926801688"
     },
     "user_tz": 300
    },
    "id": "5CRvWrbmJQrJ"
   },
   "outputs": [],
   "source": [
    "import os\n",
    "#!pip install spacy\n",
    "import spacy\n",
    "from tqdm import tqdm\n",
    "import en_core_web_sm\n",
    "nlp = en_core_web_sm.load()\n",
    "toy_rev=df1.copy()"
   ]
  },
  {
   "cell_type": "code",
   "execution_count": 23,
   "metadata": {
    "executionInfo": {
     "elapsed": 1,
     "status": "ok",
     "timestamp": 1665611681814,
     "user": {
      "displayName": "RAMU AKHILANDESHWARI",
      "userId": "16057082212926801688"
     },
     "user_tz": 300
    },
    "id": "-zKh7KwVHGlc"
   },
   "outputs": [],
   "source": [
    "!pip install vaderSentiment\n",
    "from vaderSentiment.vaderSentiment import SentimentIntensityAnalyzer\n",
    "sid = SentimentIntensityAnalyzer()"
   ]
  },
  {
   "cell_type": "code",
   "execution_count": 24,
   "metadata": {
    "executionInfo": {
     "elapsed": 293,
     "status": "ok",
     "timestamp": 1665611691234,
     "user": {
      "displayName": "RAMU AKHILANDESHWARI",
      "userId": "16057082212926801688"
     },
     "user_tz": 300
    },
    "id": "suE69n1zHG1C"
   },
   "outputs": [],
   "source": [
    "def aspect_based_analysis(toy_rev):\n",
    "    # toy_rev ---> The final_dataset on which we perform sentiment analysis\n",
    "    nlp = en_core_web_sm.load()\n",
    "\n",
    "    # List of emotions that are used to analyze the sentiments\n",
    "    competitors = ['Depression','Stress','Relationship','Emotions','Finance','Society']\n",
    "    aspect_terms = []\n",
    "    comp_terms = []\n",
    "    easpect_terms = []\n",
    "    ecomp_terms = []\n",
    "    enemy = []\n",
    "    for x in tqdm(range(len(toy_rev['content']))):\n",
    "        amod_pairs = []\n",
    "        advmod_pairs = []\n",
    "        compound_pairs = []\n",
    "        xcomp_pairs = []\n",
    "        neg_pairs = []\n",
    "        eamod_pairs = []\n",
    "        eadvmod_pairs = []\n",
    "        ecompound_pairs = []\n",
    "        eneg_pairs = []\n",
    "        excomp_pairs = []\n",
    "        enemlist = []\n",
    "        if len(str(toy_rev['content'][x])) != 0:\n",
    "            lines = str(toy_rev['content'][x]).replace('*',' ').replace('-',' ').replace('so ',' ').replace('be ',' ').replace('are ',' ').replace('just ',' ').replace('get ','').replace('were ',' ').replace('When ','').replace('when ','').replace('again ',' ').replace('where ','').replace('how ',' ').replace('has ',' ').replace('Here ',' ').replace('here ',' ').replace('now ',' ').replace('see ',' ').replace('why ',' ').split('.')       \n",
    "            for line in lines:\n",
    "                enem_list = []\n",
    "                for eny in competitors:\n",
    "                    enem = re.search(eny,line)\n",
    "                    if enem is not None:\n",
    "                        enem_list.append(enem.group())\n",
    "                if len(enem_list)==0:\n",
    "                    doc = nlp(line)\n",
    "                    str1=''\n",
    "                    str2=''\n",
    "                    for token in doc:\n",
    "                        if token.pos_ is 'NOUN':\n",
    "                            for j in token.lefts:\n",
    "                                if j.dep_ == 'compound':\n",
    "                                    compound_pairs.append((j.text+' '+token.text,token.text))\n",
    "                                    if j.dep_ is 'amod' and j.pos_ is 'ADJ': #primary condition\n",
    "                                        str1 = j.text+' '+token.text\n",
    "                                        amod_pairs.append(j.text+' '+token.text)\n",
    "                                        for k in j.lefts:\n",
    "                                            if k.dep_ is 'advmod': #secondary condition to get adjective of adjectives\n",
    "                                                str2 = k.text+' '+j.text+' '+token.text\n",
    "                                                amod_pairs.append(k.text+' '+j.text+' '+token.text)\n",
    "                                        mtch = re.search(re.escape(str1),re.escape(str2))\n",
    "                                        if mtch is not None:\n",
    "                                            amod_pairs.remove(str1)\n",
    "                        if token.pos_ is 'VERB':\n",
    "                            for j in token.lefts:\n",
    "                                if j.dep_ is 'advmod' and j.pos_ is 'ADV':\n",
    "                                    advmod_pairs.append(j.text+' '+token.text)\n",
    "                                if j.dep_ is 'neg' and j.pos_ is 'ADV':\n",
    "                                  neg_pairs.append(j.text+' '+token.text)\n",
    "                            for j in token.rights:\n",
    "                                if j.dep_ is 'advmod'and j.pos_ is 'ADV':\n",
    "                                    advmod_pairs.append(token.text+' '+j.text)\n",
    "                        if token.pos_ is 'ADJ':\n",
    "                            for j,h in zip(token.rights,token.lefts):\n",
    "                                if j.dep_ is 'xcomp' and h.dep_ is not 'neg':\n",
    "                                    for k in j.lefts:\n",
    "                                        if k.dep_ is 'aux':\n",
    "                                            xcomp_pairs.append(token.text+' '+k.text+' '+j.text)\n",
    "                                elif j.dep_ is 'xcomp' and h.dep_ is 'neg':\n",
    "                                    if k.dep_ is 'aux':\n",
    "                                            neg_pairs.append(h.text +' '+token.text+' '+k.text+' '+j.text)\n",
    "                \n",
    "                else:\n",
    "                    enemlist.append(enem_list)\n",
    "                    doc = nlp(line)\n",
    "                    str1=''\n",
    "                    str2=''\n",
    "                    for token in doc:\n",
    "                        if token.pos_ is 'NOUN':\n",
    "                            for j in token.lefts:\n",
    "                              if j.dep_ == 'compound':\n",
    "                                ecompound_pairs.append((j.text+' '+token.text,token.text))\n",
    "                                if j.dep_ is 'amod' and j.pos_ is 'ADJ': #primary condition\n",
    "                                    str1 = j.text+' '+token.text\n",
    "                                    eamod_pairs.append(j.text+' '+token.text)\n",
    "                                    for k in j.lefts:\n",
    "                                        if k.dep_ is 'advmod': #secondary condition to get adjective of adjectives\n",
    "                                            str2 = k.text+' '+j.text+' '+token.text\n",
    "                                            eamod_pairs.append(k.text+' '+j.text+' '+token.text)\n",
    "                                    mtch = re.search(re.escape(str1),re.escape(str2))\n",
    "                                    if mtch is not None:\n",
    "                                        eamod_pairs.remove(str1)\n",
    "                        if token.pos_ is 'VERB':\n",
    "                            for j in token.lefts:\n",
    "                                if j.dep_ is 'advmod' and j.pos_ is 'ADV':\n",
    "                                    eadvmod_pairs.append(j.text+' '+token.text)\n",
    "                                if j.dep_ is 'neg' and j.pos_ is 'ADV':\n",
    "                                  eadvmod_pairs.append(token.text+' '+j.text)\n",
    "                        if token.pos_ is 'ADJ':\n",
    "                            for j in token.rights:\n",
    "                                if j.dep_ is 'xcomp':\n",
    "                                    for k in j.lefts:\n",
    "                                        if k.dep_ is 'aux':\n",
    "                                            excomp_pairs.append(token.text+' '+k.text+' '+j.text)\n",
    "            pairs = list(set(amod_pairs+advmod_pairs+neg_pairs+xcomp_pairs))\n",
    "            epairs = list(set(eamod_pairs+eadvmod_pairs+eneg_pairs+excomp_pairs))\n",
    "            for i in range(len(pairs)):\n",
    "                if len(compound_pairs)!=0:\n",
    "                    for comp in compound_pairs:\n",
    "                        mtch = re.search(re.escape(comp[1]),re.escape(pairs[i]))\n",
    "                        if mtch is not None:\n",
    "                            pairs[i] = pairs[i].replace(mtch.group(),comp[0])\n",
    "            for i in range(len(epairs)):\n",
    "                if len(ecompound_pairs)!=0:\n",
    "                    for comp in ecompound_pairs:\n",
    "                        mtch = re.search(re.escape(comp[1]),re.escape(epairs[i]))\n",
    "                        if mtch is not None:\n",
    "                            epairs[i] = epairs[i].replace(mtch.group(),comp[0])\n",
    "                \n",
    "        aspect_terms.append(pairs)\n",
    "        comp_terms.append(compound_pairs)\n",
    "        easpect_terms.append(epairs)\n",
    "        ecomp_terms.append(ecompound_pairs)\n",
    "        enemy.append(enemlist)\n",
    "    toy_rev['compound_nouns'] = comp_terms\n",
    "    toy_rev['aspect_keywords'] = aspect_terms\n",
    "    toy_rev['competition'] = enemy\n",
    "    toy_rev['competition_comp_nouns'] = ecomp_terms\n",
    "    toy_rev['competition_aspects'] = easpect_terms\n",
    "    \n",
    "    ## Creating a compound vader score\n",
    "    cs = []\n",
    "    for row in range(len(toy_rev)):\n",
    "        cs.append(sid.polarity_scores(toy_rev['content'].iloc[row])['compound'])\n",
    "    toy_rev['compound_vader_score'] = cs\n",
    "\n",
    "    return toy_rev\n",
    "                          "
   ]
  },
  {
   "cell_type": "code",
   "execution_count": 25,
   "metadata": {
    "colab": {
     "base_uri": "https://localhost:8080/",
     "height": 658
    },
    "executionInfo": {
     "elapsed": 84849,
     "status": "ok",
     "timestamp": 1665611783128,
     "user": {
      "displayName": "RAMU AKHILANDESHWARI",
      "userId": "16057082212926801688"
     },
     "user_tz": 300
    },
    "id": "PWThHuZKHHFP",
    "outputId": "7c6ea6df-611c-4bfa-ae92-84ef99108807"
   },
   "outputs": [
    {
     "name": "stderr",
     "output_type": "stream",
     "text": [
      "100%|██████████| 5837/5837 [01:20<00:00, 72.11it/s]\n"
     ]
    },
    {
     "data": {
      "text/html": [
       "\n",
       "  <div id=\"df-0e1620a5-d474-4383-9db3-e3e351aea463\">\n",
       "    <div class=\"colab-df-container\">\n",
       "      <div>\n",
       "<style scoped>\n",
       "    .dataframe tbody tr th:only-of-type {\n",
       "        vertical-align: middle;\n",
       "    }\n",
       "\n",
       "    .dataframe tbody tr th {\n",
       "        vertical-align: top;\n",
       "    }\n",
       "\n",
       "    .dataframe thead th {\n",
       "        text-align: right;\n",
       "    }\n",
       "</style>\n",
       "<table border=\"1\" class=\"dataframe\">\n",
       "  <thead>\n",
       "    <tr style=\"text-align: right;\">\n",
       "      <th></th>\n",
       "      <th>content</th>\n",
       "      <th>compound_nouns</th>\n",
       "      <th>aspect_keywords</th>\n",
       "      <th>competition</th>\n",
       "      <th>competition_comp_nouns</th>\n",
       "      <th>competition_aspects</th>\n",
       "      <th>compound_vader_score</th>\n",
       "    </tr>\n",
       "  </thead>\n",
       "  <tbody>\n",
       "    <tr>\n",
       "      <th>0</th>\n",
       "      <td>WE ALL HAVE PAINFUL  EXPERIENCES Suicidal Call...</td>\n",
       "      <td>[(courage chooselife, chooselife), (fight choo...</td>\n",
       "      <td>[]</td>\n",
       "      <td>[]</td>\n",
       "      <td>[]</td>\n",
       "      <td>[]</td>\n",
       "      <td>-0.9191</td>\n",
       "    </tr>\n",
       "    <tr>\n",
       "      <th>1</th>\n",
       "      <td>British girl suicide 5 years ago Internet info...</td>\n",
       "      <td>[(girl suicide, suicide), (Internet informatio...</td>\n",
       "      <td>[]</td>\n",
       "      <td>[]</td>\n",
       "      <td>[]</td>\n",
       "      <td>[]</td>\n",
       "      <td>-0.8885</td>\n",
       "    </tr>\n",
       "    <tr>\n",
       "      <th>2</th>\n",
       "      <td>To wrap up National Suicide Prevention Month a...</td>\n",
       "      <td>[(LA artists, artists), (suicide loss, loss)]</td>\n",
       "      <td>[]</td>\n",
       "      <td>[]</td>\n",
       "      <td>[]</td>\n",
       "      <td>[]</td>\n",
       "      <td>-0.9501</td>\n",
       "    </tr>\n",
       "    <tr>\n",
       "      <th>3</th>\n",
       "      <td>September is Suicide awareness month Lets not ...</td>\n",
       "      <td>[(Suicide month, month), (awareness month, mon...</td>\n",
       "      <td>[]</td>\n",
       "      <td>[]</td>\n",
       "      <td>[]</td>\n",
       "      <td>[]</td>\n",
       "      <td>-0.3346</td>\n",
       "    </tr>\n",
       "    <tr>\n",
       "      <th>4</th>\n",
       "      <td>Most people often do not die by suicide becaus...</td>\n",
       "      <td>[]</td>\n",
       "      <td>[often die]</td>\n",
       "      <td>[]</td>\n",
       "      <td>[]</td>\n",
       "      <td>[]</td>\n",
       "      <td>-0.9108</td>\n",
       "    </tr>\n",
       "    <tr>\n",
       "      <th>...</th>\n",
       "      <td>...</td>\n",
       "      <td>...</td>\n",
       "      <td>...</td>\n",
       "      <td>...</td>\n",
       "      <td>...</td>\n",
       "      <td>...</td>\n",
       "      <td>...</td>\n",
       "    </tr>\n",
       "    <tr>\n",
       "      <th>5832</th>\n",
       "      <td>PTSDchat Next week we’ll start the Sept “Suici...</td>\n",
       "      <td>[(experiences questions, questions)]</td>\n",
       "      <td>[PTSDchat start]</td>\n",
       "      <td>[]</td>\n",
       "      <td>[]</td>\n",
       "      <td>[]</td>\n",
       "      <td>0.2960</td>\n",
       "    </tr>\n",
       "    <tr>\n",
       "      <th>5833</th>\n",
       "      <td>Dilworth Victim tells independent inquiry some...</td>\n",
       "      <td>[]</td>\n",
       "      <td>[]</td>\n",
       "      <td>[]</td>\n",
       "      <td>[]</td>\n",
       "      <td>[]</td>\n",
       "      <td>-0.9545</td>\n",
       "    </tr>\n",
       "    <tr>\n",
       "      <th>5834</th>\n",
       "      <td>Thrilled to pass on the news that Canada will ...</td>\n",
       "      <td>[(mentalhealth hotline, hotline), (suicide hot...</td>\n",
       "      <td>[]</td>\n",
       "      <td>[]</td>\n",
       "      <td>[]</td>\n",
       "      <td>[]</td>\n",
       "      <td>-0.3818</td>\n",
       "    </tr>\n",
       "    <tr>\n",
       "      <th>5835</th>\n",
       "      <td>JOURNALISTS Write better stories on suicide Ke...</td>\n",
       "      <td>[(pocket dartcenter, dartcenter)]</td>\n",
       "      <td>[]</td>\n",
       "      <td>[]</td>\n",
       "      <td>[]</td>\n",
       "      <td>[]</td>\n",
       "      <td>-0.3818</td>\n",
       "    </tr>\n",
       "    <tr>\n",
       "      <th>5836</th>\n",
       "      <td>tornbetweentwoworlds now available on audiblec...</td>\n",
       "      <td>[]</td>\n",
       "      <td>[]</td>\n",
       "      <td>[[Depression]]</td>\n",
       "      <td>[(DrugResistantDepression depression, depressi...</td>\n",
       "      <td>[]</td>\n",
       "      <td>-0.9118</td>\n",
       "    </tr>\n",
       "  </tbody>\n",
       "</table>\n",
       "<p>5837 rows × 7 columns</p>\n",
       "</div>\n",
       "      <button class=\"colab-df-convert\" onclick=\"convertToInteractive('df-0e1620a5-d474-4383-9db3-e3e351aea463')\"\n",
       "              title=\"Convert this dataframe to an interactive table.\"\n",
       "              style=\"display:none;\">\n",
       "        \n",
       "  <svg xmlns=\"http://www.w3.org/2000/svg\" height=\"24px\"viewBox=\"0 0 24 24\"\n",
       "       width=\"24px\">\n",
       "    <path d=\"M0 0h24v24H0V0z\" fill=\"none\"/>\n",
       "    <path d=\"M18.56 5.44l.94 2.06.94-2.06 2.06-.94-2.06-.94-.94-2.06-.94 2.06-2.06.94zm-11 1L8.5 8.5l.94-2.06 2.06-.94-2.06-.94L8.5 2.5l-.94 2.06-2.06.94zm10 10l.94 2.06.94-2.06 2.06-.94-2.06-.94-.94-2.06-.94 2.06-2.06.94z\"/><path d=\"M17.41 7.96l-1.37-1.37c-.4-.4-.92-.59-1.43-.59-.52 0-1.04.2-1.43.59L10.3 9.45l-7.72 7.72c-.78.78-.78 2.05 0 2.83L4 21.41c.39.39.9.59 1.41.59.51 0 1.02-.2 1.41-.59l7.78-7.78 2.81-2.81c.8-.78.8-2.07 0-2.86zM5.41 20L4 18.59l7.72-7.72 1.47 1.35L5.41 20z\"/>\n",
       "  </svg>\n",
       "      </button>\n",
       "      \n",
       "  <style>\n",
       "    .colab-df-container {\n",
       "      display:flex;\n",
       "      flex-wrap:wrap;\n",
       "      gap: 12px;\n",
       "    }\n",
       "\n",
       "    .colab-df-convert {\n",
       "      background-color: #E8F0FE;\n",
       "      border: none;\n",
       "      border-radius: 50%;\n",
       "      cursor: pointer;\n",
       "      display: none;\n",
       "      fill: #1967D2;\n",
       "      height: 32px;\n",
       "      padding: 0 0 0 0;\n",
       "      width: 32px;\n",
       "    }\n",
       "\n",
       "    .colab-df-convert:hover {\n",
       "      background-color: #E2EBFA;\n",
       "      box-shadow: 0px 1px 2px rgba(60, 64, 67, 0.3), 0px 1px 3px 1px rgba(60, 64, 67, 0.15);\n",
       "      fill: #174EA6;\n",
       "    }\n",
       "\n",
       "    [theme=dark] .colab-df-convert {\n",
       "      background-color: #3B4455;\n",
       "      fill: #D2E3FC;\n",
       "    }\n",
       "\n",
       "    [theme=dark] .colab-df-convert:hover {\n",
       "      background-color: #434B5C;\n",
       "      box-shadow: 0px 1px 3px 1px rgba(0, 0, 0, 0.15);\n",
       "      filter: drop-shadow(0px 1px 2px rgba(0, 0, 0, 0.3));\n",
       "      fill: #FFFFFF;\n",
       "    }\n",
       "  </style>\n",
       "\n",
       "      <script>\n",
       "        const buttonEl =\n",
       "          document.querySelector('#df-0e1620a5-d474-4383-9db3-e3e351aea463 button.colab-df-convert');\n",
       "        buttonEl.style.display =\n",
       "          google.colab.kernel.accessAllowed ? 'block' : 'none';\n",
       "\n",
       "        async function convertToInteractive(key) {\n",
       "          const element = document.querySelector('#df-0e1620a5-d474-4383-9db3-e3e351aea463');\n",
       "          const dataTable =\n",
       "            await google.colab.kernel.invokeFunction('convertToInteractive',\n",
       "                                                     [key], {});\n",
       "          if (!dataTable) return;\n",
       "\n",
       "          const docLinkHtml = 'Like what you see? Visit the ' +\n",
       "            '<a target=\"_blank\" href=https://colab.research.google.com/notebooks/data_table.ipynb>data table notebook</a>'\n",
       "            + ' to learn more about interactive tables.';\n",
       "          element.innerHTML = '';\n",
       "          dataTable['output_type'] = 'display_data';\n",
       "          await google.colab.output.renderOutput(dataTable, element);\n",
       "          const docLink = document.createElement('div');\n",
       "          docLink.innerHTML = docLinkHtml;\n",
       "          element.appendChild(docLink);\n",
       "        }\n",
       "      </script>\n",
       "    </div>\n",
       "  </div>\n",
       "  "
      ],
      "text/plain": [
       "                                                content  \\\n",
       "0     WE ALL HAVE PAINFUL  EXPERIENCES Suicidal Call...   \n",
       "1     British girl suicide 5 years ago Internet info...   \n",
       "2     To wrap up National Suicide Prevention Month a...   \n",
       "3     September is Suicide awareness month Lets not ...   \n",
       "4     Most people often do not die by suicide becaus...   \n",
       "...                                                 ...   \n",
       "5832  PTSDchat Next week we’ll start the Sept “Suici...   \n",
       "5833  Dilworth Victim tells independent inquiry some...   \n",
       "5834  Thrilled to pass on the news that Canada will ...   \n",
       "5835  JOURNALISTS Write better stories on suicide Ke...   \n",
       "5836  tornbetweentwoworlds now available on audiblec...   \n",
       "\n",
       "                                         compound_nouns   aspect_keywords  \\\n",
       "0     [(courage chooselife, chooselife), (fight choo...                []   \n",
       "1     [(girl suicide, suicide), (Internet informatio...                []   \n",
       "2         [(LA artists, artists), (suicide loss, loss)]                []   \n",
       "3     [(Suicide month, month), (awareness month, mon...                []   \n",
       "4                                                    []       [often die]   \n",
       "...                                                 ...               ...   \n",
       "5832               [(experiences questions, questions)]  [PTSDchat start]   \n",
       "5833                                                 []                []   \n",
       "5834  [(mentalhealth hotline, hotline), (suicide hot...                []   \n",
       "5835                  [(pocket dartcenter, dartcenter)]                []   \n",
       "5836                                                 []                []   \n",
       "\n",
       "         competition                             competition_comp_nouns  \\\n",
       "0                 []                                                 []   \n",
       "1                 []                                                 []   \n",
       "2                 []                                                 []   \n",
       "3                 []                                                 []   \n",
       "4                 []                                                 []   \n",
       "...              ...                                                ...   \n",
       "5832              []                                                 []   \n",
       "5833              []                                                 []   \n",
       "5834              []                                                 []   \n",
       "5835              []                                                 []   \n",
       "5836  [[Depression]]  [(DrugResistantDepression depression, depressi...   \n",
       "\n",
       "     competition_aspects  compound_vader_score  \n",
       "0                     []               -0.9191  \n",
       "1                     []               -0.8885  \n",
       "2                     []               -0.9501  \n",
       "3                     []               -0.3346  \n",
       "4                     []               -0.9108  \n",
       "...                  ...                   ...  \n",
       "5832                  []                0.2960  \n",
       "5833                  []               -0.9545  \n",
       "5834                  []               -0.3818  \n",
       "5835                  []               -0.3818  \n",
       "5836                  []               -0.9118  \n",
       "\n",
       "[5837 rows x 7 columns]"
      ]
     },
     "execution_count": 25,
     "metadata": {},
     "output_type": "execute_result"
    }
   ],
   "source": [
    "xy=aspect_based_analysis(refined_data)\n",
    "xy"
   ]
  },
  {
   "cell_type": "code",
   "execution_count": null,
   "metadata": {
    "id": "EwTq2Yl4HHW7"
   },
   "outputs": [],
   "source": []
  },
  {
   "cell_type": "markdown",
   "metadata": {
    "id": "U5kr0vJgJiQM"
   },
   "source": [
    "## Word Cloud"
   ]
  },
  {
   "cell_type": "code",
   "execution_count": 26,
   "metadata": {
    "executionInfo": {
     "elapsed": 327,
     "status": "ok",
     "timestamp": 1665611805353,
     "user": {
      "displayName": "RAMU AKHILANDESHWARI",
      "userId": "16057082212926801688"
     },
     "user_tz": 300
    },
    "id": "crZsK96jJjrS"
   },
   "outputs": [],
   "source": [
    "df=xy.copy()"
   ]
  },
  {
   "cell_type": "code",
   "execution_count": 27,
   "metadata": {
    "executionInfo": {
     "elapsed": 296,
     "status": "ok",
     "timestamp": 1665611808792,
     "user": {
      "displayName": "RAMU AKHILANDESHWARI",
      "userId": "16057082212926801688"
     },
     "user_tz": 300
    },
    "id": "jSx0AKj4HIAX"
   },
   "outputs": [],
   "source": [
    "from wordcloud import WordCloud, STOPWORDS\n",
    "import plotly.graph_objs as go\n",
    "\n",
    "def plotly_wordcloud(text):\n",
    "    wc = WordCloud(stopwords = set(STOPWORDS),\n",
    "                   max_words = 20,\n",
    "                   max_font_size = 10)\n",
    "    wc.generate(text)\n",
    "    \n",
    "    word_list=[]\n",
    "    freq_list=[]\n",
    "    fontsize_list=[]\n",
    "    position_list=[]\n",
    "    orientation_list=[]\n",
    "    color_list=[]\n",
    "\n",
    "    for (word, freq), fontsize, position, orientation, color in wc.layout_:\n",
    "        word_list.append(word)\n",
    "        freq_list.append(freq)\n",
    "        fontsize_list.append(fontsize)\n",
    "        position_list.append(position)\n",
    "        orientation_list.append(orientation)\n",
    "        color_list.append(color)\n",
    "        \n",
    "    # get the positions\n",
    "    x=[]\n",
    "    y=[]\n",
    "    for i in position_list:\n",
    "        x.append(i[0])\n",
    "        y.append(i[1])\n",
    "            \n",
    "    # get the relative occurence frequencies\n",
    "    new_freq_list = []\n",
    "    for i in freq_list:\n",
    "        new_freq_list.append(i*100)\n",
    "    new_freq_list\n",
    "    \n",
    "    trace = go.Scatter(x=x, \n",
    "                       y=y, \n",
    "                       textfont = dict(size=new_freq_list,\n",
    "                                       color=color_list),\n",
    "                       hoverinfo='text',\n",
    "                       hovertext=['{0}{1}'.format(w, f) for w, f in zip(word_list, freq_list)],\n",
    "                       mode='text',  \n",
    "                       text=word_list\n",
    "                      )\n",
    "    \n",
    "    layout = go.Layout({'xaxis': {'showgrid': False, 'showticklabels': False, 'zeroline': False},\n",
    "                        'yaxis': {'showgrid': False, 'showticklabels': False, 'zeroline': False}})\n",
    "    \n",
    "    fig = go.Figure(data=[trace], layout=layout)\n",
    "    \n",
    "    return fig"
   ]
  },
  {
   "cell_type": "code",
   "execution_count": 28,
   "metadata": {
    "colab": {
     "base_uri": "https://localhost:8080/"
    },
    "executionInfo": {
     "elapsed": 266,
     "status": "ok",
     "timestamp": 1665611816081,
     "user": {
      "displayName": "RAMU AKHILANDESHWARI",
      "userId": "16057082212926801688"
     },
     "user_tz": 300
    },
    "id": "x-0TwRN5Jog0",
    "outputId": "13451b9f-7e11-4cff-bf94-150b1fdbd050"
   },
   "outputs": [
    {
     "data": {
      "text/plain": [
       "Index(['content', 'compound_nouns', 'aspect_keywords', 'competition',\n",
       "       'competition_comp_nouns', 'competition_aspects',\n",
       "       'compound_vader_score'],\n",
       "      dtype='object')"
      ]
     },
     "execution_count": 28,
     "metadata": {},
     "output_type": "execute_result"
    }
   ],
   "source": [
    "df.columns"
   ]
  },
  {
   "cell_type": "code",
   "execution_count": 30,
   "metadata": {
    "executionInfo": {
     "elapsed": 267,
     "status": "ok",
     "timestamp": 1665611831206,
     "user": {
      "displayName": "RAMU AKHILANDESHWARI",
      "userId": "16057082212926801688"
     },
     "user_tz": 300
    },
    "id": "Ea94jiREJoxe"
   },
   "outputs": [],
   "source": [
    "# Start with loading all necessary libraries\n",
    "import numpy as np\n",
    "import pandas as pd\n",
    "from os import path\n",
    "from PIL import Image\n",
    "from wordcloud import WordCloud, STOPWORDS, ImageColorGenerator\n",
    "\n",
    "import matplotlib.pyplot as plt\n",
    "#% matplotlib inline"
   ]
  },
  {
   "cell_type": "code",
   "execution_count": 31,
   "metadata": {
    "colab": {
     "base_uri": "https://localhost:8080/",
     "height": 215
    },
    "executionInfo": {
     "elapsed": 1137,
     "status": "ok",
     "timestamp": 1665611836215,
     "user": {
      "displayName": "RAMU AKHILANDESHWARI",
      "userId": "16057082212926801688"
     },
     "user_tz": 300
    },
    "id": "P83Ip3omJpAv",
    "outputId": "045fb652-ece0-43da-946d-1d676fd32294"
   },
   "outputs": [
    {
     "name": "stdout",
     "output_type": "stream",
     "text": [
      "There are 47015 words in the combination of all review.\n"
     ]
    },
    {
     "data": {
      "image/png": "[encoded data removed]",
      "text/plain": [
       "<Figure size 432x288 with 1 Axes>"
      ]
     },
     "metadata": {
      "needs_background": "light"
     },
     "output_type": "display_data"
    }
   ],
   "source": [
    "text = \" \".join(review for review in df.aspect_keywords.astype('string')).lower()\n",
    "print (f\"There are {len(text)} words in the combination of all review.\")\n",
    "\n",
    "# Create stopword list:\n",
    "stopwords = set(STOPWORDS)\n",
    "\n",
    "# Generate a word cloud image\n",
    "wordcloud = WordCloud(stopwords=stopwords, background_color=\"white\").generate(text)\n",
    "\n",
    "# Display the generated image:\n",
    "# the matplotlib way:\n",
    "plt.imshow(wordcloud, interpolation='bilinear')\n",
    "plt.axis(\"off\")\n",
    "plt.show()"
   ]
  },
  {
   "cell_type": "code",
   "execution_count": 32,
   "metadata": {
    "colab": {
     "base_uri": "https://localhost:8080/",
     "height": 215
    },
    "executionInfo": {
     "elapsed": 842,
     "status": "ok",
     "timestamp": 1665611843366,
     "user": {
      "displayName": "RAMU AKHILANDESHWARI",
      "userId": "16057082212926801688"
     },
     "user_tz": 300
    },
    "id": "Wla8tWHUJpU0",
    "outputId": "83bc3b55-dc19-4195-a278-7ca394037a40"
   },
   "outputs": [
    {
     "name": "stdout",
     "output_type": "stream",
     "text": [
      "There are 17871 words in the combination of all review.\n"
     ]
    },
    {
     "data": {
      "image/png": "[encoded data removed]",
      "text/plain": [
       "<Figure size 432x288 with 1 Axes>"
      ]
     },
     "metadata": {
      "needs_background": "light"
     },
     "output_type": "display_data"
    }
   ],
   "source": [
    "text = \" \".join(review for review in df.competition_aspects.astype('string')).lower()\n",
    "print (f\"There are {len(text)} words in the combination of all review.\")\n",
    "\n",
    "# Create stopword list:\n",
    "stopwords = set(STOPWORDS)\n",
    "\n",
    "# Generate a word cloud image\n",
    "wordcloud = WordCloud(stopwords=stopwords, background_color=\"white\").generate(text)\n",
    "\n",
    "# Display the generated image:\n",
    "# the matplotlib way:\n",
    "plt.imshow(wordcloud, interpolation='bilinear')\n",
    "plt.axis(\"off\")\n",
    "plt.show()"
   ]
  },
  {
   "cell_type": "code",
   "execution_count": null,
   "metadata": {
    "id": "pkYMWRRXJpto"
   },
   "outputs": [],
   "source": []
  },
  {
   "cell_type": "code",
   "execution_count": null,
   "metadata": {
    "id": "TI12jhAhJqKp"
   },
   "outputs": [],
   "source": []
  },
  {
   "cell_type": "code",
   "execution_count": null,
   "metadata": {
    "id": "VycHpAWHJqgx"
   },
   "outputs": [],
   "source": []
  },
  {
   "cell_type": "code",
   "execution_count": null,
   "metadata": {
    "id": "hYriKKl9Jquv"
   },
   "outputs": [],
   "source": []
  }
 ],
 "metadata": {
  "colab": {
   "authorship_tag": "ABX9TyPJ/EyZVzCdvxaFMbh6WKQr",
   "collapsed_sections": [],
   "provenance": []
  },
  "kernelspec": {
   "display_name": "Python 3.10.0 64-bit",
   "language": "python",
   "name": "python3"
  },
  "language_info": {
   "codemirror_mode": {
    "name": "ipython",
    "version": 3
   },
   "file_extension": ".py",
   "mimetype": "text/x-python",
   "name": "python",
   "nbconvert_exporter": "python",
   "pygments_lexer": "ipython3",
   "version": "3.10.0"
  },
  "vscode": {
   "interpreter": {
    "hash": "369f2c481f4da34e4445cda3fffd2e751bd1c4d706f27375911949ba6bb62e1c"
   }
  }
 },
 "nbformat": 4,
 "nbformat_minor": 1
}
