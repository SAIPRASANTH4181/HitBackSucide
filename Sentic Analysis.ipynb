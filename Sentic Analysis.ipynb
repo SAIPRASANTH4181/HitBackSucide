{
 "cells": [
  {
   "cell_type": "code",
   "execution_count": 1,
   "id": "708e80c3",
   "metadata": {},
   "outputs": [
    {
     "ename": "ModuleNotFoundError",
     "evalue": "No module named 'sentic'",
     "output_type": "error",
     "traceback": [
      "\u001b[1;31m---------------------------------------------------------------------------\u001b[0m",
      "\u001b[1;31mModuleNotFoundError\u001b[0m                       Traceback (most recent call last)",
      "Input \u001b[1;32mIn [1]\u001b[0m, in \u001b[0;36m<cell line: 1>\u001b[1;34m()\u001b[0m\n\u001b[1;32m----> 1\u001b[0m \u001b[38;5;28;01mfrom\u001b[39;00m \u001b[38;5;21;01msentic\u001b[39;00m \u001b[38;5;28;01mimport\u001b[39;00m SenticPhrase\n\u001b[0;32m      3\u001b[0m text_x_minute_sentiment \u001b[38;5;241m=\u001b[39m {}\n\u001b[0;32m      5\u001b[0m \u001b[38;5;28;01mfor\u001b[39;00m txm \u001b[38;5;129;01min\u001b[39;00m text_x_minute\u001b[38;5;241m.\u001b[39mkeys():\n",
      "\u001b[1;31mModuleNotFoundError\u001b[0m: No module named 'sentic'"
     ]
    }
   ],
   "source": [
    "from sentic import SenticPhrase\n",
    "\n",
    "text_x_minute_sentiment = {}\n",
    "\n",
    "for txm in text_x_minute.keys():\n",
    "    sp = SenticPhrase(text_x_minute[txm])\n",
    "    sp_sentiment=sp.get_sentiment()\n",
    "    if 'positive' in sp_sentiment:\n",
    "        text_x_minute_sentiment[txm]=1\n",
    "    if 'negative' in sp_sentiment:\n",
    "        text_x_minute_sentiment[txm]=-1\n",
    "    if 'neutral' in sp_sentiment:\n",
    "        text_x_minute_sentiment[txm]=0\n",
    "\n",
    "print(text_x_minute_sentiment)"
   ]
  },
  {
   "cell_type": "code",
   "execution_count": null,
   "id": "43fdf35d",
   "metadata": {},
   "outputs": [],
   "source": []
  }
 ],
 "metadata": {
  "kernelspec": {
   "display_name": "Python 3 (ipykernel)",
   "language": "python",
   "name": "python3"
  },
  "language_info": {
   "codemirror_mode": {
    "name": "ipython",
    "version": 3
   },
   "file_extension": ".py",
   "mimetype": "text/x-python",
   "name": "python",
   "nbconvert_exporter": "python",
   "pygments_lexer": "ipython3",
   "version": "3.9.12"
  }
 },
 "nbformat": 4,
 "nbformat_minor": 5
}
