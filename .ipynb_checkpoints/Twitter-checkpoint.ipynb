{
 "cells": [
  {
   "cell_type": "code",
   "execution_count": 2,
   "id": "099ae583",
   "metadata": {},
   "outputs": [],
   "source": [
    "# import snscrape.base\n",
    "import snscrape.modules.twitter as sntwitter\n",
    "import pandas as pd\n",
    "import itertools\n",
    "\n",
    "search = '#suicide since:2015-01-01 until:2021-09-26 lang:en' # -filter:nativeretweets'\n",
    "\n",
    "# the scraped tweets, this is a generator\n",
    "scraped_tweets = sntwitter.TwitterSearchScraper(search).get_items()\n",
    "\n",
    "# slicing the generator to keep only the first 10000 tweets\n",
    "sliced_scraped_tweets = itertools.islice(scraped_tweets, 10000)\n",
    "\n",
    "# convert to a DataFrame and keep only relevant columns\n",
    "df = pd.DataFrame(sliced_scraped_tweets)[['date','content']]"
   ]
  },
  {
   "cell_type": "code",
   "execution_count": 10,
   "id": "4ef7bfb6",
   "metadata": {},
   "outputs": [
    {
     "data": {
      "text/html": [
       "<div>\n",
       "<style scoped>\n",
       "    .dataframe tbody tr th:only-of-type {\n",
       "        vertical-align: middle;\n",
       "    }\n",
       "\n",
       "    .dataframe tbody tr th {\n",
       "        vertical-align: top;\n",
       "    }\n",
       "\n",
       "    .dataframe thead th {\n",
       "        text-align: right;\n",
       "    }\n",
       "</style>\n",
       "<table border=\"1\" class=\"dataframe\">\n",
       "  <thead>\n",
       "    <tr style=\"text-align: right;\">\n",
       "      <th></th>\n",
       "      <th>date</th>\n",
       "      <th>content</th>\n",
       "    </tr>\n",
       "  </thead>\n",
       "  <tbody>\n",
       "    <tr>\n",
       "      <th>0</th>\n",
       "      <td>2021-09-25 23:52:47+00:00</td>\n",
       "      <td>Really frustrates me when people keep banging ...</td>\n",
       "    </tr>\n",
       "    <tr>\n",
       "      <th>1</th>\n",
       "      <td>2021-09-25 23:51:44+00:00</td>\n",
       "      <td>What is \"chronically suicidal\"? What's the cut...</td>\n",
       "    </tr>\n",
       "    <tr>\n",
       "      <th>2</th>\n",
       "      <td>2021-09-25 23:25:11+00:00</td>\n",
       "      <td>another appalling case of neglect resulting in...</td>\n",
       "    </tr>\n",
       "    <tr>\n",
       "      <th>3</th>\n",
       "      <td>2021-09-25 23:17:26+00:00</td>\n",
       "      <td>More impactful work from @HeatherSchatten and ...</td>\n",
       "    </tr>\n",
       "    <tr>\n",
       "      <th>4</th>\n",
       "      <td>2021-09-25 23:04:01+00:00</td>\n",
       "      <td>St. Luke’s campuses are illuminated purple for...</td>\n",
       "    </tr>\n",
       "  </tbody>\n",
       "</table>\n",
       "</div>"
      ],
      "text/plain": [
       "                       date                                            content\n",
       "0 2021-09-25 23:52:47+00:00  Really frustrates me when people keep banging ...\n",
       "1 2021-09-25 23:51:44+00:00  What is \"chronically suicidal\"? What's the cut...\n",
       "2 2021-09-25 23:25:11+00:00  another appalling case of neglect resulting in...\n",
       "3 2021-09-25 23:17:26+00:00  More impactful work from @HeatherSchatten and ...\n",
       "4 2021-09-25 23:04:01+00:00  St. Luke’s campuses are illuminated purple for..."
      ]
     },
     "execution_count": 10,
     "metadata": {},
     "output_type": "execute_result"
    }
   ],
   "source": [
    "\n",
    "df.head()"
   ]
  },
  {
   "cell_type": "code",
   "execution_count": 4,
   "id": "861d9bf9",
   "metadata": {},
   "outputs": [
    {
     "data": {
      "text/plain": [
       "date       0\n",
       "content    0\n",
       "dtype: int64"
      ]
     },
     "execution_count": 4,
     "metadata": {},
     "output_type": "execute_result"
    }
   ],
   "source": [
    "df.isnull().sum()"
   ]
  },
  {
   "cell_type": "code",
   "execution_count": 5,
   "id": "08c066cb",
   "metadata": {},
   "outputs": [
    {
     "name": "stdout",
     "output_type": "stream",
     "text": [
      "<class 'pandas.core.frame.DataFrame'>\n",
      "RangeIndex: 10000 entries, 0 to 9999\n",
      "Data columns (total 2 columns):\n",
      " #   Column   Non-Null Count  Dtype              \n",
      "---  ------   --------------  -----              \n",
      " 0   date     10000 non-null  datetime64[ns, UTC]\n",
      " 1   content  10000 non-null  object             \n",
      "dtypes: datetime64[ns, UTC](1), object(1)\n",
      "memory usage: 156.4+ KB\n"
     ]
    }
   ],
   "source": [
    "df.info()"
   ]
  },
  {
   "cell_type": "code",
   "execution_count": 11,
   "id": "14d902e6",
   "metadata": {},
   "outputs": [
    {
     "data": {
      "text/plain": [
       "Index(['date', 'content'], dtype='object')"
      ]
     },
     "execution_count": 11,
     "metadata": {},
     "output_type": "execute_result"
    }
   ],
   "source": [
    "df.columns"
   ]
  },
  {
   "cell_type": "code",
   "execution_count": 8,
   "id": "93e0b6e7",
   "metadata": {},
   "outputs": [
    {
     "data": {
      "text/html": [
       "<div>\n",
       "<style scoped>\n",
       "    .dataframe tbody tr th:only-of-type {\n",
       "        vertical-align: middle;\n",
       "    }\n",
       "\n",
       "    .dataframe tbody tr th {\n",
       "        vertical-align: top;\n",
       "    }\n",
       "\n",
       "    .dataframe thead th {\n",
       "        text-align: right;\n",
       "    }\n",
       "</style>\n",
       "<table border=\"1\" class=\"dataframe\">\n",
       "  <thead>\n",
       "    <tr style=\"text-align: right;\">\n",
       "      <th></th>\n",
       "      <th>date</th>\n",
       "      <th>content</th>\n",
       "    </tr>\n",
       "  </thead>\n",
       "  <tbody>\n",
       "  </tbody>\n",
       "</table>\n",
       "</div>"
      ],
      "text/plain": [
       "Empty DataFrame\n",
       "Columns: [date, content]\n",
       "Index: []"
      ]
     },
     "execution_count": 8,
     "metadata": {},
     "output_type": "execute_result"
    }
   ],
   "source": [
    "df[df.isna().any(axis=1)]"
   ]
  },
  {
   "cell_type": "code",
   "execution_count": 7,
   "id": "86be1399",
   "metadata": {},
   "outputs": [],
   "source": [
    "df.to_csv(r\"C:\\Users\\bsaip\\OneDrive\\Desktop\\temp.csv\")"
   ]
  },
  {
   "cell_type": "code",
   "execution_count": 9,
   "id": "5a3fa47e",
   "metadata": {},
   "outputs": [
    {
     "data": {
      "text/plain": [
       "date       0\n",
       "content    0\n",
       "dtype: int64"
      ]
     },
     "execution_count": 9,
     "metadata": {},
     "output_type": "execute_result"
    }
   ],
   "source": [
    "df.isnull().sum()"
   ]
  },
  {
   "cell_type": "code",
   "execution_count": 17,
   "id": "d0b67ca1",
   "metadata": {},
   "outputs": [],
   "source": [
    "# removing punctuation marks\n",
    "import string\n",
    "# string.punctuation\n",
    "def remove_punctuation(text):\n",
    "    no_punct=[words for words in text if words not in string.punctuation]\n",
    "    words_wo_punct=''.join(no_punct)\n",
    "    return words_wo_punct\n"
   ]
  },
  {
   "cell_type": "code",
   "execution_count": 18,
   "id": "1cef9de2",
   "metadata": {},
   "outputs": [
    {
     "data": {
      "text/html": [
       "<div>\n",
       "<style scoped>\n",
       "    .dataframe tbody tr th:only-of-type {\n",
       "        vertical-align: middle;\n",
       "    }\n",
       "\n",
       "    .dataframe tbody tr th {\n",
       "        vertical-align: top;\n",
       "    }\n",
       "\n",
       "    .dataframe thead th {\n",
       "        text-align: right;\n",
       "    }\n",
       "</style>\n",
       "<table border=\"1\" class=\"dataframe\">\n",
       "  <thead>\n",
       "    <tr style=\"text-align: right;\">\n",
       "      <th></th>\n",
       "      <th>date</th>\n",
       "      <th>content</th>\n",
       "      <th>content_wo_punct</th>\n",
       "    </tr>\n",
       "  </thead>\n",
       "  <tbody>\n",
       "    <tr>\n",
       "      <th>0</th>\n",
       "      <td>2021-09-25 23:52:47+00:00</td>\n",
       "      <td>Really frustrates me when people keep banging ...</td>\n",
       "      <td>Really frustrates me when people keep banging ...</td>\n",
       "    </tr>\n",
       "    <tr>\n",
       "      <th>1</th>\n",
       "      <td>2021-09-25 23:51:44+00:00</td>\n",
       "      <td>What is \"chronically suicidal\"? What's the cut...</td>\n",
       "      <td>What is chronically suicidal Whats the cut off...</td>\n",
       "    </tr>\n",
       "    <tr>\n",
       "      <th>2</th>\n",
       "      <td>2021-09-25 23:25:11+00:00</td>\n",
       "      <td>another appalling case of neglect resulting in...</td>\n",
       "      <td>another appalling case of neglect resulting in...</td>\n",
       "    </tr>\n",
       "    <tr>\n",
       "      <th>3</th>\n",
       "      <td>2021-09-25 23:17:26+00:00</td>\n",
       "      <td>More impactful work from @HeatherSchatten and ...</td>\n",
       "      <td>More impactful work from HeatherSchatten and M...</td>\n",
       "    </tr>\n",
       "    <tr>\n",
       "      <th>4</th>\n",
       "      <td>2021-09-25 23:04:01+00:00</td>\n",
       "      <td>St. Luke’s campuses are illuminated purple for...</td>\n",
       "      <td>St Luke’s campuses are illuminated purple for ...</td>\n",
       "    </tr>\n",
       "  </tbody>\n",
       "</table>\n",
       "</div>"
      ],
      "text/plain": [
       "                       date  \\\n",
       "0 2021-09-25 23:52:47+00:00   \n",
       "1 2021-09-25 23:51:44+00:00   \n",
       "2 2021-09-25 23:25:11+00:00   \n",
       "3 2021-09-25 23:17:26+00:00   \n",
       "4 2021-09-25 23:04:01+00:00   \n",
       "\n",
       "                                             content  \\\n",
       "0  Really frustrates me when people keep banging ...   \n",
       "1  What is \"chronically suicidal\"? What's the cut...   \n",
       "2  another appalling case of neglect resulting in...   \n",
       "3  More impactful work from @HeatherSchatten and ...   \n",
       "4  St. Luke’s campuses are illuminated purple for...   \n",
       "\n",
       "                                    content_wo_punct  \n",
       "0  Really frustrates me when people keep banging ...  \n",
       "1  What is chronically suicidal Whats the cut off...  \n",
       "2  another appalling case of neglect resulting in...  \n",
       "3  More impactful work from HeatherSchatten and M...  \n",
       "4  St Luke’s campuses are illuminated purple for ...  "
      ]
     },
     "execution_count": 18,
     "metadata": {},
     "output_type": "execute_result"
    }
   ],
   "source": [
    "df['content_wo_punct']=df['content'].apply(lambda x: remove_punctuation(x))\n",
    "df.head()"
   ]
  },
  {
   "cell_type": "code",
   "execution_count": 20,
   "id": "72ef5efe",
   "metadata": {},
   "outputs": [
    {
     "data": {
      "text/html": [
       "<div>\n",
       "<style scoped>\n",
       "    .dataframe tbody tr th:only-of-type {\n",
       "        vertical-align: middle;\n",
       "    }\n",
       "\n",
       "    .dataframe tbody tr th {\n",
       "        vertical-align: top;\n",
       "    }\n",
       "\n",
       "    .dataframe thead th {\n",
       "        text-align: right;\n",
       "    }\n",
       "</style>\n",
       "<table border=\"1\" class=\"dataframe\">\n",
       "  <thead>\n",
       "    <tr style=\"text-align: right;\">\n",
       "      <th></th>\n",
       "      <th>date</th>\n",
       "      <th>content</th>\n",
       "      <th>content_wo_punct</th>\n",
       "      <th>content_wo_punct_split</th>\n",
       "    </tr>\n",
       "  </thead>\n",
       "  <tbody>\n",
       "    <tr>\n",
       "      <th>0</th>\n",
       "      <td>2021-09-25 23:52:47+00:00</td>\n",
       "      <td>Really frustrates me when people keep banging ...</td>\n",
       "      <td>Really frustrates me when people keep banging ...</td>\n",
       "      <td>[really, frustrates, me, when, people, keep, b...</td>\n",
       "    </tr>\n",
       "    <tr>\n",
       "      <th>1</th>\n",
       "      <td>2021-09-25 23:51:44+00:00</td>\n",
       "      <td>What is \"chronically suicidal\"? What's the cut...</td>\n",
       "      <td>What is chronically suicidal Whats the cut off...</td>\n",
       "      <td>[what, is, chronically, suicidal, whats, the, ...</td>\n",
       "    </tr>\n",
       "    <tr>\n",
       "      <th>2</th>\n",
       "      <td>2021-09-25 23:25:11+00:00</td>\n",
       "      <td>another appalling case of neglect resulting in...</td>\n",
       "      <td>another appalling case of neglect resulting in...</td>\n",
       "      <td>[another, appalling, case, of, neglect, result...</td>\n",
       "    </tr>\n",
       "    <tr>\n",
       "      <th>3</th>\n",
       "      <td>2021-09-25 23:17:26+00:00</td>\n",
       "      <td>More impactful work from @HeatherSchatten and ...</td>\n",
       "      <td>More impactful work from HeatherSchatten and M...</td>\n",
       "      <td>[more, impactful, work, from, heatherschatten,...</td>\n",
       "    </tr>\n",
       "    <tr>\n",
       "      <th>4</th>\n",
       "      <td>2021-09-25 23:04:01+00:00</td>\n",
       "      <td>St. Luke’s campuses are illuminated purple for...</td>\n",
       "      <td>St Luke’s campuses are illuminated purple for ...</td>\n",
       "      <td>[st, luke, s, campuses, are, illuminated, purp...</td>\n",
       "    </tr>\n",
       "  </tbody>\n",
       "</table>\n",
       "</div>"
      ],
      "text/plain": [
       "                       date  \\\n",
       "0 2021-09-25 23:52:47+00:00   \n",
       "1 2021-09-25 23:51:44+00:00   \n",
       "2 2021-09-25 23:25:11+00:00   \n",
       "3 2021-09-25 23:17:26+00:00   \n",
       "4 2021-09-25 23:04:01+00:00   \n",
       "\n",
       "                                             content  \\\n",
       "0  Really frustrates me when people keep banging ...   \n",
       "1  What is \"chronically suicidal\"? What's the cut...   \n",
       "2  another appalling case of neglect resulting in...   \n",
       "3  More impactful work from @HeatherSchatten and ...   \n",
       "4  St. Luke’s campuses are illuminated purple for...   \n",
       "\n",
       "                                    content_wo_punct  \\\n",
       "0  Really frustrates me when people keep banging ...   \n",
       "1  What is chronically suicidal Whats the cut off...   \n",
       "2  another appalling case of neglect resulting in...   \n",
       "3  More impactful work from HeatherSchatten and M...   \n",
       "4  St Luke’s campuses are illuminated purple for ...   \n",
       "\n",
       "                              content_wo_punct_split  \n",
       "0  [really, frustrates, me, when, people, keep, b...  \n",
       "1  [what, is, chronically, suicidal, whats, the, ...  \n",
       "2  [another, appalling, case, of, neglect, result...  \n",
       "3  [more, impactful, work, from, heatherschatten,...  \n",
       "4  [st, luke, s, campuses, are, illuminated, purp...  "
      ]
     },
     "execution_count": 20,
     "metadata": {},
     "output_type": "execute_result"
    }
   ],
   "source": [
    "import re\n",
    "# tokenizing words\n",
    "def tokenize(text):\n",
    "    split=re.split(\"\\W+\",text) \n",
    "    return split\n",
    "df['content_wo_punct_split']=df['content_wo_punct'].apply(lambda x: tokenize(x.lower()))\n",
    "df.head()"
   ]
  },
  {
   "cell_type": "code",
   "execution_count": 24,
   "id": "8b0d8628",
   "metadata": {},
   "outputs": [
    {
     "name": "stdout",
     "output_type": "stream",
     "text": [
      "['i', 'me', 'my', 'myself', 'we', 'our', 'ours', 'ourselves', 'you', \"you're\", \"you've\"]\n"
     ]
    },
    {
     "name": "stderr",
     "output_type": "stream",
     "text": [
      "[nltk_data] Downloading package stopwords to\n",
      "[nltk_data]     C:\\Users\\bsaip\\AppData\\Roaming\\nltk_data...\n",
      "[nltk_data]   Unzipping corpora\\stopwords.zip.\n"
     ]
    }
   ],
   "source": [
    "from nltk.corpus import stopwords\n",
    "nltk.download('stopwords')\n",
    "stopword = stopwords.words('english')"
   ]
  },
  {
   "cell_type": "code",
   "execution_count": 25,
   "id": "6ca3dd53",
   "metadata": {},
   "outputs": [
    {
     "data": {
      "text/html": [
       "<div>\n",
       "<style scoped>\n",
       "    .dataframe tbody tr th:only-of-type {\n",
       "        vertical-align: middle;\n",
       "    }\n",
       "\n",
       "    .dataframe tbody tr th {\n",
       "        vertical-align: top;\n",
       "    }\n",
       "\n",
       "    .dataframe thead th {\n",
       "        text-align: right;\n",
       "    }\n",
       "</style>\n",
       "<table border=\"1\" class=\"dataframe\">\n",
       "  <thead>\n",
       "    <tr style=\"text-align: right;\">\n",
       "      <th></th>\n",
       "      <th>date</th>\n",
       "      <th>content</th>\n",
       "      <th>content_wo_punct</th>\n",
       "      <th>content_wo_punct_split</th>\n",
       "      <th>content_wo_punct_split_wo_stopwords</th>\n",
       "    </tr>\n",
       "  </thead>\n",
       "  <tbody>\n",
       "    <tr>\n",
       "      <th>0</th>\n",
       "      <td>2021-09-25 23:52:47+00:00</td>\n",
       "      <td>Really frustrates me when people keep banging ...</td>\n",
       "      <td>Really frustrates me when people keep banging ...</td>\n",
       "      <td>[really, frustrates, me, when, people, keep, b...</td>\n",
       "      <td>[really, frustrates, people, keep, banging, dr...</td>\n",
       "    </tr>\n",
       "    <tr>\n",
       "      <th>1</th>\n",
       "      <td>2021-09-25 23:51:44+00:00</td>\n",
       "      <td>What is \"chronically suicidal\"? What's the cut...</td>\n",
       "      <td>What is chronically suicidal Whats the cut off...</td>\n",
       "      <td>[what, is, chronically, suicidal, whats, the, ...</td>\n",
       "      <td>[chronically, suicidal, whats, cut, whats, beg...</td>\n",
       "    </tr>\n",
       "    <tr>\n",
       "      <th>2</th>\n",
       "      <td>2021-09-25 23:25:11+00:00</td>\n",
       "      <td>another appalling case of neglect resulting in...</td>\n",
       "      <td>another appalling case of neglect resulting in...</td>\n",
       "      <td>[another, appalling, case, of, neglect, result...</td>\n",
       "      <td>[another, appalling, case, neglect, resulting,...</td>\n",
       "    </tr>\n",
       "    <tr>\n",
       "      <th>3</th>\n",
       "      <td>2021-09-25 23:17:26+00:00</td>\n",
       "      <td>More impactful work from @HeatherSchatten and ...</td>\n",
       "      <td>More impactful work from HeatherSchatten and M...</td>\n",
       "      <td>[more, impactful, work, from, heatherschatten,...</td>\n",
       "      <td>[impactful, work, heatherschatten, michaelarme...</td>\n",
       "    </tr>\n",
       "    <tr>\n",
       "      <th>4</th>\n",
       "      <td>2021-09-25 23:04:01+00:00</td>\n",
       "      <td>St. Luke’s campuses are illuminated purple for...</td>\n",
       "      <td>St Luke’s campuses are illuminated purple for ...</td>\n",
       "      <td>[st, luke, s, campuses, are, illuminated, purp...</td>\n",
       "      <td>[st, luke, campuses, illuminated, purple, reco...</td>\n",
       "    </tr>\n",
       "  </tbody>\n",
       "</table>\n",
       "</div>"
      ],
      "text/plain": [
       "                       date  \\\n",
       "0 2021-09-25 23:52:47+00:00   \n",
       "1 2021-09-25 23:51:44+00:00   \n",
       "2 2021-09-25 23:25:11+00:00   \n",
       "3 2021-09-25 23:17:26+00:00   \n",
       "4 2021-09-25 23:04:01+00:00   \n",
       "\n",
       "                                             content  \\\n",
       "0  Really frustrates me when people keep banging ...   \n",
       "1  What is \"chronically suicidal\"? What's the cut...   \n",
       "2  another appalling case of neglect resulting in...   \n",
       "3  More impactful work from @HeatherSchatten and ...   \n",
       "4  St. Luke’s campuses are illuminated purple for...   \n",
       "\n",
       "                                    content_wo_punct  \\\n",
       "0  Really frustrates me when people keep banging ...   \n",
       "1  What is chronically suicidal Whats the cut off...   \n",
       "2  another appalling case of neglect resulting in...   \n",
       "3  More impactful work from HeatherSchatten and M...   \n",
       "4  St Luke’s campuses are illuminated purple for ...   \n",
       "\n",
       "                              content_wo_punct_split  \\\n",
       "0  [really, frustrates, me, when, people, keep, b...   \n",
       "1  [what, is, chronically, suicidal, whats, the, ...   \n",
       "2  [another, appalling, case, of, neglect, result...   \n",
       "3  [more, impactful, work, from, heatherschatten,...   \n",
       "4  [st, luke, s, campuses, are, illuminated, purp...   \n",
       "\n",
       "                 content_wo_punct_split_wo_stopwords  \n",
       "0  [really, frustrates, people, keep, banging, dr...  \n",
       "1  [chronically, suicidal, whats, cut, whats, beg...  \n",
       "2  [another, appalling, case, neglect, resulting,...  \n",
       "3  [impactful, work, heatherschatten, michaelarme...  \n",
       "4  [st, luke, campuses, illuminated, purple, reco...  "
      ]
     },
     "execution_count": 25,
     "metadata": {},
     "output_type": "execute_result"
    }
   ],
   "source": [
    "def remove_stopwords(text):\n",
    "    text=[word for word in text if word not in stopword]\n",
    "    return text\n",
    "df['content_wo_punct_split_wo_stopwords'] = df['content_wo_punct_split'].apply(lambda x: remove_stopwords(x))\n",
    "df.head()"
   ]
  },
  {
   "cell_type": "code",
   "execution_count": null,
   "id": "1276cf62",
   "metadata": {},
   "outputs": [],
   "source": []
  }
 ],
 "metadata": {
  "kernelspec": {
   "display_name": "Python 3 (ipykernel)",
   "language": "python",
   "name": "python3"
  },
  "language_info": {
   "codemirror_mode": {
    "name": "ipython",
    "version": 3
   },
   "file_extension": ".py",
   "mimetype": "text/x-python",
   "name": "python",
   "nbconvert_exporter": "python",
   "pygments_lexer": "ipython3",
   "version": "3.9.12"
  }
 },
 "nbformat": 4,
 "nbformat_minor": 5
}
